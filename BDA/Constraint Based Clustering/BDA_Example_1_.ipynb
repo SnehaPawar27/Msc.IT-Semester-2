{
  "nbformat": 4,
  "nbformat_minor": 0,
  "metadata": {
    "colab": {
      "name": "BDA  Example 1 .ipynb",
      "provenance": [],
      "collapsed_sections": []
    },
    "kernelspec": {
      "name": "python3",
      "display_name": "Python 3"
    },
    "language_info": {
      "name": "python"
    }
  },
  "cells": [
    {
      "cell_type": "markdown",
      "metadata": {
        "id": "QD5IxoVugh9k"
      },
      "source": [
        "\n",
        "**Step #1 :- Import modules, Packages and Dependancies.**"
      ]
    },
    {
      "cell_type": "code",
      "metadata": {
        "id": "DQk5Tv5YgomO"
      },
      "source": [
        "# Import All\n",
        "\n",
        "import numpy as np\n",
        "import pandas as pd\n",
        "from sklearn.cluster import DBSCAN\n",
        "from collections import Counter\n",
        "from sklearn.preprocessing import StandardScaler\n",
        "import matplotlib.pyplot as plt\n",
        "from pylab import rcParams\n",
        "rcParams['figure.figsize'] = 14, 6\n",
        "\n",
        "%matplotlib inline"
      ],
      "execution_count": null,
      "outputs": []
    },
    {
      "cell_type": "markdown",
      "metadata": {
        "id": "aX5aTM_Lgwsu"
      },
      "source": [
        "**Step #2 :- Load Data**"
      ]
    },
    {
      "cell_type": "code",
      "metadata": {
        "colab": {
          "base_uri": "https://localhost:8080/",
          "height": 204
        },
        "id": "XQzPy56xgzdd",
        "outputId": "14d53ec1-5c3a-42c0-ae30-814b1e044c2a"
      },
      "source": [
        "# Read CSV file with Geographical Data.\n",
        "data = pd.read_excel(\"Country.xlsx\")\n",
        "data.head()"
      ],
      "execution_count": null,
      "outputs": [
        {
          "output_type": "execute_result",
          "data": {
            "text/html": [
              "<div>\n",
              "<style scoped>\n",
              "    .dataframe tbody tr th:only-of-type {\n",
              "        vertical-align: middle;\n",
              "    }\n",
              "\n",
              "    .dataframe tbody tr th {\n",
              "        vertical-align: top;\n",
              "    }\n",
              "\n",
              "    .dataframe thead th {\n",
              "        text-align: right;\n",
              "    }\n",
              "</style>\n",
              "<table border=\"1\" class=\"dataframe\">\n",
              "  <thead>\n",
              "    <tr style=\"text-align: right;\">\n",
              "      <th></th>\n",
              "      <th>country</th>\n",
              "      <th>latitude</th>\n",
              "      <th>longitude</th>\n",
              "      <th>name</th>\n",
              "    </tr>\n",
              "  </thead>\n",
              "  <tbody>\n",
              "    <tr>\n",
              "      <th>0</th>\n",
              "      <td>AD</td>\n",
              "      <td>42.546245</td>\n",
              "      <td>1.601554</td>\n",
              "      <td>Andorra</td>\n",
              "    </tr>\n",
              "    <tr>\n",
              "      <th>1</th>\n",
              "      <td>AE</td>\n",
              "      <td>23.424076</td>\n",
              "      <td>53.847818</td>\n",
              "      <td>United Arab Emirates</td>\n",
              "    </tr>\n",
              "    <tr>\n",
              "      <th>2</th>\n",
              "      <td>AF</td>\n",
              "      <td>33.939110</td>\n",
              "      <td>67.709953</td>\n",
              "      <td>Afghanistan</td>\n",
              "    </tr>\n",
              "    <tr>\n",
              "      <th>3</th>\n",
              "      <td>AG</td>\n",
              "      <td>17.060816</td>\n",
              "      <td>-61.796428</td>\n",
              "      <td>Antigua and Barbuda</td>\n",
              "    </tr>\n",
              "    <tr>\n",
              "      <th>4</th>\n",
              "      <td>AI</td>\n",
              "      <td>18.220554</td>\n",
              "      <td>-63.068615</td>\n",
              "      <td>Anguilla</td>\n",
              "    </tr>\n",
              "  </tbody>\n",
              "</table>\n",
              "</div>"
            ],
            "text/plain": [
              "  country   latitude  longitude                  name\n",
              "0      AD  42.546245   1.601554               Andorra\n",
              "1      AE  23.424076  53.847818  United Arab Emirates\n",
              "2      AF  33.939110  67.709953           Afghanistan\n",
              "3      AG  17.060816 -61.796428   Antigua and Barbuda\n",
              "4      AI  18.220554 -63.068615              Anguilla"
            ]
          },
          "metadata": {
            "tags": []
          },
          "execution_count": 3
        }
      ]
    },
    {
      "cell_type": "markdown",
      "metadata": {
        "id": "RXF7Rt1Rh7dg"
      },
      "source": [
        "**Show some info about dataframe**"
      ]
    },
    {
      "cell_type": "code",
      "metadata": {
        "colab": {
          "base_uri": "https://localhost:8080/"
        },
        "id": "JfbwnjkFh9D7",
        "outputId": "ef0e7d38-8306-42c2-9f9e-bf2cd19811d3"
      },
      "source": [
        "data.info()"
      ],
      "execution_count": null,
      "outputs": [
        {
          "output_type": "stream",
          "text": [
            "<class 'pandas.core.frame.DataFrame'>\n",
            "RangeIndex: 244 entries, 0 to 243\n",
            "Data columns (total 4 columns):\n",
            " #   Column     Non-Null Count  Dtype  \n",
            "---  ------     --------------  -----  \n",
            " 0   country    243 non-null    object \n",
            " 1   latitude   244 non-null    float64\n",
            " 2   longitude  244 non-null    float64\n",
            " 3   name       244 non-null    object \n",
            "dtypes: float64(2), object(2)\n",
            "memory usage: 7.8+ KB\n"
          ],
          "name": "stdout"
        }
      ]
    },
    {
      "cell_type": "markdown",
      "metadata": {
        "id": "zrmQ_khbiDHJ"
      },
      "source": [
        "**Plot the Geographical Points.**"
      ]
    },
    {
      "cell_type": "code",
      "metadata": {
        "colab": {
          "base_uri": "https://localhost:8080/",
          "height": 295
        },
        "id": "xuFQ48m1iFPy",
        "outputId": "29584896-62af-493a-9b0b-98db9d11441c"
      },
      "source": [
        "_ = plt.plot(data['longitude'], data['latitude'], marker=\".\", linewidth = 0, color='#128128')\n",
        "_=plt.grid(which='major', color='#cccccc', alpha=0.45)\n",
        "_=plt.title('Geographical distribution', family='Arial',fontsize=12)\n",
        "_=plt.xlabel('Longitude')\n",
        "_=plt.ylabel('Latitude')"
      ],
      "execution_count": null,
      "outputs": [
        {
          "output_type": "display_data",
          "data": {
            "image/png": "[encoded data removed]",
            "text/plain": [
              "<Figure size 432x288 with 1 Axes>"
            ]
          },
          "metadata": {
            "tags": [],
            "needs_background": "light"
          }
        }
      ]
    },
    {
      "cell_type": "markdown",
      "metadata": {
        "id": "RrejCFY9iPKW"
      },
      "source": [
        "**Step #3 :- Prepare DBSCAN Model**\n",
        "\n",
        "**Train the model and identify outliers**"
      ]
    },
    {
      "cell_type": "code",
      "metadata": {
        "colab": {
          "base_uri": "https://localhost:8080/"
        },
        "id": "bwwyWshAiUvy",
        "outputId": "05c2ab62-16e2-4a59-e6c7-5c6715b3f2ae"
      },
      "source": [
        "#Prepare data for model\n",
        "dbscan_data = data[['longitude','latitude']]\n",
        "dbscan_data = dbscan_data.values.astype('float32',copy=False)\n",
        "dbscan_data"
      ],
      "execution_count": null,
      "outputs": [
        {
          "output_type": "execute_result",
          "data": {
            "text/plain": [
              "array([[ 1.60155404e+00,  4.25462456e+01],\n",
              "       [ 5.38478165e+01,  2.34240761e+01],\n",
              "       [ 6.77099533e+01,  3.39391098e+01],\n",
              "       [-6.17964287e+01,  1.70608158e+01],\n",
              "       [-6.30686150e+01,  1.82205544e+01],\n",
              "       [ 2.01683311e+01,  4.11533318e+01],\n",
              "       [ 4.50381889e+01,  4.00690994e+01],\n",
              "       [-6.90600891e+01,  1.22260790e+01],\n",
              "       [ 1.78738861e+01, -1.12026920e+01],\n",
              "       [-7.13889971e-02, -7.52509766e+01],\n",
              "       [-6.36166725e+01, -3.84160957e+01],\n",
              "       [-1.70132217e+02, -1.42709723e+01],\n",
              "       [ 1.45500717e+01,  4.75162315e+01],\n",
              "       [ 1.33775131e+02, -2.52743988e+01],\n",
              "       [-6.99683380e+01,  1.25211096e+01],\n",
              "       [ 4.75769272e+01,  4.01431046e+01],\n",
              "       [ 1.76790752e+01,  4.39158859e+01],\n",
              "       [-5.95431976e+01,  1.31938868e+01],\n",
              "       [ 9.03563309e+01,  2.36849937e+01],\n",
              "       [ 4.46993589e+00,  5.05038872e+01],\n",
              "       [-1.56159306e+00,  1.22383327e+01],\n",
              "       [ 2.54858303e+01,  4.27338829e+01],\n",
              "       [ 5.06377716e+01,  2.59304142e+01],\n",
              "       [ 2.99188862e+01, -3.37305593e+00],\n",
              "       [ 2.31583405e+00,  9.30768967e+00],\n",
              "       [-6.47573700e+01,  3.23213844e+01],\n",
              "       [ 1.14727669e+02,  4.53527689e+00],\n",
              "       [-6.35886536e+01, -1.62901535e+01],\n",
              "       [-5.19252815e+01, -1.42350044e+01],\n",
              "       [-7.73962784e+01,  2.50342808e+01],\n",
              "       [ 9.04336014e+01,  2.75141621e+01],\n",
              "       [ 3.41319394e+00, -5.44231987e+01],\n",
              "       [ 2.46848660e+01, -2.23284740e+01],\n",
              "       [ 2.79533882e+01,  5.37098083e+01],\n",
              "       [-8.84976501e+01,  1.71898766e+01],\n",
              "       [-1.06346771e+02,  5.61303673e+01],\n",
              "       [ 9.68709564e+01, -1.21641645e+01],\n",
              "       [ 2.17586632e+01, -4.03833294e+00],\n",
              "       [ 2.09394436e+01,  6.61111116e+00],\n",
              "       [ 1.58276587e+01, -2.28020996e-01],\n",
              "       [ 8.22751236e+00,  4.68181877e+01],\n",
              "       [-5.54708004e+00,  7.53998899e+00],\n",
              "       [-1.59777664e+02, -2.12367363e+01],\n",
              "       [-7.15429688e+01, -3.56751480e+01],\n",
              "       [ 1.23547220e+01,  7.36972189e+00],\n",
              "       [ 1.04195396e+02,  3.58616600e+01],\n",
              "       [-7.42973328e+01,  4.57086802e+00],\n",
              "       [-8.37534256e+01,  9.74891663e+00],\n",
              "       [-7.77811661e+01,  2.15217571e+01],\n",
              "       [-2.40131969e+01,  1.60020828e+01],\n",
              "       [ 1.05690453e+02, -1.04475250e+01],\n",
              "       [ 3.34298592e+01,  3.51264114e+01],\n",
              "       [ 1.54729624e+01,  4.98174934e+01],\n",
              "       [ 1.04515257e+01,  5.11656914e+01],\n",
              "       [ 4.25902748e+01,  1.18251381e+01],\n",
              "       [ 9.50178528e+00,  5.62639198e+01],\n",
              "       [-6.13709755e+01,  1.54149990e+01],\n",
              "       [-7.01626511e+01,  1.87356930e+01],\n",
              "       [ 1.65962601e+00,  2.80338860e+01],\n",
              "       [-7.81834030e+01, -1.83123899e+00],\n",
              "       [ 2.50136070e+01,  5.85952721e+01],\n",
              "       [ 3.08024979e+01,  2.68205528e+01],\n",
              "       [-1.28858337e+01,  2.42155266e+01],\n",
              "       [ 3.97823334e+01,  1.51793842e+01],\n",
              "       [-3.74921989e+00,  4.04636688e+01],\n",
              "       [ 4.04896736e+01,  9.14500046e+00],\n",
              "       [ 2.57481518e+01,  6.19241104e+01],\n",
              "       [ 1.79414413e+02, -1.65781937e+01],\n",
              "       [-5.95236130e+01, -5.17962532e+01],\n",
              "       [ 1.50550812e+02,  7.42555380e+00],\n",
              "       [-6.91180611e+00,  6.18926353e+01],\n",
              "       [ 2.21374893e+00,  4.62276382e+01],\n",
              "       [ 1.16094437e+01, -8.03689003e-01],\n",
              "       [-3.43597293e+00,  5.53780518e+01],\n",
              "       [-6.16041718e+01,  1.22627764e+01],\n",
              "       [ 4.33568916e+01,  4.23154068e+01],\n",
              "       [-5.31257820e+01,  3.93388891e+00],\n",
              "       [-2.58527803e+00,  4.94656906e+01],\n",
              "       [-1.02319396e+00,  7.94652700e+00],\n",
              "       [-5.34537411e+00,  3.61377411e+01],\n",
              "       [-4.26043015e+01,  7.17069397e+01],\n",
              "       [-1.53101387e+01,  1.34431820e+01],\n",
              "       [-9.69664478e+00,  9.94558716e+00],\n",
              "       [-6.20676422e+01,  1.69959717e+01],\n",
              "       [ 1.02678947e+01,  1.65080094e+00],\n",
              "       [ 2.18243122e+01,  3.90742073e+01],\n",
              "       [-3.65879097e+01, -5.44295807e+01],\n",
              "       [-9.02307587e+01,  1.57834711e+01],\n",
              "       [ 1.44793732e+02,  1.34443045e+01],\n",
              "       [-1.51804132e+01,  1.18037491e+01],\n",
              "       [-5.89301796e+01,  4.86041594e+00],\n",
              "       [ 3.43088264e+01,  3.13546753e+01],\n",
              "       [ 1.14109497e+02,  2.23964272e+01],\n",
              "       [ 7.35041580e+01, -5.30818100e+01],\n",
              "       [-8.62419052e+01,  1.51999989e+01],\n",
              "       [ 1.51999998e+01,  4.50999985e+01],\n",
              "       [-7.22852173e+01,  1.89711876e+01],\n",
              "       [ 1.95033035e+01,  4.71624947e+01],\n",
              "       [ 1.13921326e+02, -7.89274991e-01],\n",
              "       [-8.24388981e+00,  5.34129105e+01],\n",
              "       [ 3.48516121e+01,  3.10460510e+01],\n",
              "       [-4.54805613e+00,  5.42361069e+01],\n",
              "       [ 7.89628830e+01,  2.05936832e+01],\n",
              "       [ 7.18765182e+01, -6.34319401e+00],\n",
              "       [ 4.36792908e+01,  3.32231903e+01],\n",
              "       [ 5.36880455e+01,  3.24279099e+01],\n",
              "       [-1.90208359e+01,  6.49630508e+01],\n",
              "       [ 1.25673800e+01,  4.18719406e+01],\n",
              "       [-2.13124990e+00,  4.92144394e+01],\n",
              "       [-7.72975082e+01,  1.81095810e+01],\n",
              "       [ 3.62384148e+01,  3.05851631e+01],\n",
              "       [ 1.38252930e+02,  3.62048225e+01],\n",
              "       [ 3.79061928e+01, -2.35590003e-02],\n",
              "       [ 7.47660980e+01,  4.12043800e+01],\n",
              "       [ 1.04990967e+02,  1.25656786e+01],\n",
              "       [-1.68734039e+02, -3.37041712e+00],\n",
              "       [ 4.38722191e+01, -1.18750010e+01],\n",
              "       [-6.27829971e+01,  1.73578224e+01],\n",
              "       [ 1.27510094e+02,  4.03398514e+01],\n",
              "       [ 1.27766922e+02,  3.59077568e+01],\n",
              "       [ 4.74817657e+01,  2.93116608e+01],\n",
              "       [-8.05669556e+01,  1.95134697e+01],\n",
              "       [ 6.69236832e+01,  4.80195732e+01],\n",
              "       [ 1.02495499e+02,  1.98562698e+01],\n",
              "       [ 3.58622856e+01,  3.38547211e+01],\n",
              "       [-6.09788933e+01,  1.39094439e+01],\n",
              "       [ 9.55537319e+00,  4.71660004e+01],\n",
              "       [ 8.07717972e+01,  7.87305403e+00],\n",
              "       [-9.42949867e+00,  6.42805481e+00],\n",
              "       [ 2.82336082e+01, -2.96099873e+01],\n",
              "       [ 2.38812752e+01,  5.51694374e+01],\n",
              "       [ 6.12958288e+00,  4.98152733e+01],\n",
              "       [ 2.46031895e+01,  5.68796349e+01],\n",
              "       [ 1.72283306e+01,  2.63351002e+01],\n",
              "       [-7.09261990e+00,  3.17917023e+01],\n",
              "       [ 7.41284084e+00,  4.37502975e+01],\n",
              "       [ 2.83698845e+01,  4.74116325e+01],\n",
              "       [ 1.93743896e+01,  4.27086792e+01],\n",
              "       [ 4.68691063e+01, -1.87669468e+01],\n",
              "       [ 1.71184479e+02,  7.13147402e+00],\n",
              "       [ 2.17452755e+01,  4.16086349e+01],\n",
              "       [-3.99616599e+00,  1.75706921e+01],\n",
              "       [ 9.59562225e+01,  2.19139652e+01],\n",
              "       [ 1.03846657e+02,  4.68624954e+01],\n",
              "       [ 1.13543877e+02,  2.21987457e+01],\n",
              "       [ 1.45384689e+02,  1.73308296e+01],\n",
              "       [-6.10241737e+01,  1.46415281e+01],\n",
              "       [-1.09408350e+01,  2.10078907e+01],\n",
              "       [-6.21873665e+01,  1.67424984e+01],\n",
              "       [ 1.43754158e+01,  3.59374962e+01],\n",
              "       [ 5.75521507e+01, -2.03484039e+01],\n",
              "       [ 7.32206802e+01,  3.20277810e+00],\n",
              "       [ 3.43015251e+01, -1.32543077e+01],\n",
              "       [-1.02552788e+02,  2.36345005e+01],\n",
              "       [ 1.01975769e+02,  4.21048403e+00],\n",
              "       [ 3.55295639e+01, -1.86656952e+01],\n",
              "       [ 1.84904099e+01, -2.29576397e+01],\n",
              "       [ 1.65618042e+02, -2.09043045e+01],\n",
              "       [ 8.08166599e+00,  1.76077881e+01],\n",
              "       [ 1.67954712e+02, -2.90408344e+01],\n",
              "       [ 8.67527676e+00,  9.08199883e+00],\n",
              "       [-8.52072296e+01,  1.28654156e+01],\n",
              "       [ 5.29126596e+00,  5.21326332e+01],\n",
              "       [ 8.46894646e+00,  6.04720230e+01],\n",
              "       [ 8.41240082e+01,  2.83948574e+01],\n",
              "       [ 1.66931503e+02, -5.22777975e-01],\n",
              "       [-1.69867233e+02, -1.90544453e+01],\n",
              "       [ 1.74885971e+02, -4.09005585e+01],\n",
              "       [ 5.59232559e+01,  2.15125828e+01],\n",
              "       [-8.07821274e+01,  8.53798103e+00],\n",
              "       [-7.50151520e+01, -9.18996716e+00],\n",
              "       [-1.49406845e+02, -1.76797428e+01],\n",
              "       [ 1.43955551e+02, -6.31499290e+00],\n",
              "       [ 1.21774017e+02,  1.28797207e+01],\n",
              "       [ 6.93451157e+01,  3.03753204e+01],\n",
              "       [ 1.91451359e+01,  5.19194374e+01],\n",
              "       [-5.62711105e+01,  4.69419365e+01],\n",
              "       [-1.27439308e+02, -2.47036152e+01],\n",
              "       [-6.65901489e+01,  1.82208328e+01],\n",
              "       [ 3.52331543e+01,  3.19521618e+01],\n",
              "       [-8.22445393e+00,  3.93998718e+01],\n",
              "       [ 1.34582520e+02,  7.51497984e+00],\n",
              "       [-5.84438324e+01, -2.34425030e+01],\n",
              "       [ 5.11838837e+01,  2.53548260e+01],\n",
              "       [ 5.55363846e+01, -2.11151409e+01],\n",
              "       [ 2.49667606e+01,  4.59431610e+01],\n",
              "       [ 2.10058594e+01,  4.40165215e+01],\n",
              "       [ 1.05318756e+02,  6.15240097e+01],\n",
              "       [ 2.98738880e+01, -1.94027805e+00],\n",
              "       [ 4.50791626e+01,  2.38859425e+01],\n",
              "       [ 1.60156189e+02, -9.64570999e+00],\n",
              "       [ 5.54919777e+01, -4.67957401e+00],\n",
              "       [ 3.02176361e+01,  1.28628073e+01],\n",
              "       [ 1.86435013e+01,  6.01281624e+01],\n",
              "       [ 1.03819839e+02,  1.35208297e+00],\n",
              "       [-1.00306959e+01, -2.41434746e+01],\n",
              "       [ 1.49954634e+01,  4.61512413e+01],\n",
              "       [ 2.36702728e+01,  7.75536041e+01],\n",
              "       [ 1.96990242e+01,  4.86690254e+01],\n",
              "       [-1.17798891e+01,  8.46055508e+00],\n",
              "       [ 1.24577770e+01,  4.39423599e+01],\n",
              "       [-1.44523621e+01,  1.44974012e+01],\n",
              "       [ 4.61996155e+01,  5.15214920e+00],\n",
              "       [-5.60277824e+01,  3.91930509e+00],\n",
              "       [ 6.61308098e+00,  1.86360002e-01],\n",
              "       [-8.88965302e+01,  1.37941847e+01],\n",
              "       [ 3.89968147e+01,  3.48020744e+01],\n",
              "       [ 3.14658661e+01, -2.65225029e+01],\n",
              "       [-7.17979279e+01,  2.16940250e+01],\n",
              "       [ 1.87322063e+01,  1.54541664e+01],\n",
              "       [ 6.93485565e+01, -4.92803650e+01],\n",
              "       [ 8.24782014e-01,  8.61954308e+00],\n",
              "       [ 1.00992538e+02,  1.58700323e+01],\n",
              "       [ 7.12760925e+01,  3.88610344e+01],\n",
              "       [-1.71855881e+02, -8.96736336e+00],\n",
              "       [ 1.25727539e+02, -8.87421703e+00],\n",
              "       [ 5.95562782e+01,  3.89697189e+01],\n",
              "       [ 9.53749943e+00,  3.38869171e+01],\n",
              "       [-1.75198242e+02, -2.11789856e+01],\n",
              "       [ 3.52433205e+01,  3.89637451e+01],\n",
              "       [-6.12225037e+01,  1.06918030e+01],\n",
              "       [ 1.77649323e+02, -7.10953522e+00],\n",
              "       [ 1.20960518e+02,  2.36978092e+01],\n",
              "       [ 3.48888206e+01, -6.36902809e+00],\n",
              "       [ 3.11655807e+01,  4.83794327e+01],\n",
              "       [ 3.22902756e+01,  1.37333298e+00],\n",
              "       [-9.57128906e+01,  3.70902405e+01],\n",
              "       [-5.57658348e+01, -3.25227776e+01],\n",
              "       [ 6.45852585e+01,  4.13774910e+01],\n",
              "       [ 1.24533892e+01,  4.19029160e+01],\n",
              "       [-6.12872276e+01,  1.29843054e+01],\n",
              "       [-6.65897293e+01,  6.42374992e+00],\n",
              "       [-6.46399689e+01,  1.84206944e+01],\n",
              "       [-6.48963318e+01,  1.83357658e+01],\n",
              "       [ 1.08277199e+02,  1.40583239e+01],\n",
              "       [ 1.66959152e+02, -1.53767061e+01],\n",
              "       [-1.77156097e+02, -1.37687521e+01],\n",
              "       [-1.72104630e+02, -1.37590294e+01],\n",
              "       [ 2.09029770e+01,  4.26026344e+01],\n",
              "       [ 4.85163879e+01,  1.55527267e+01],\n",
              "       [ 4.51662445e+01, -1.28275003e+01],\n",
              "       [ 2.29375057e+01, -3.05594826e+01],\n",
              "       [ 2.78493328e+01, -1.31338968e+01],\n",
              "       [ 2.91548576e+01, -1.90154381e+01]], dtype=float32)"
            ]
          },
          "metadata": {
            "tags": []
          },
          "execution_count": 10
        }
      ]
    },
    {
      "cell_type": "markdown",
      "metadata": {
        "id": "FpHMQ1SdiZgQ"
      },
      "source": [
        "**Normalize Data**"
      ]
    },
    {
      "cell_type": "code",
      "metadata": {
        "colab": {
          "base_uri": "https://localhost:8080/"
        },
        "id": "TpTRwSilifLM",
        "outputId": "5bcdbd0e-4909-483a-8722-20e699b78388"
      },
      "source": [
        "#Normalize Data\n",
        "dbscan_data_scaler = StandardScaler().fit(dbscan_data)\n",
        "dbscan_data = dbscan_data_scaler.transform(dbscan_data)\n",
        "dbscan_data"
      ],
      "execution_count": null,
      "outputs": [
        {
          "output_type": "execute_result",
          "data": {
            "text/plain": [
              "array([[-0.15839218,  0.974695  ],\n",
              "       [ 0.5493146 ,  0.26583004],\n",
              "       [ 0.7370855 ,  0.6556257 ],\n",
              "       [-1.0171556 ,  0.02994194],\n",
              "       [-1.0343882 ,  0.07293382],\n",
              "       [ 0.0931059 ,  0.9230592 ],\n",
              "       [ 0.42998296,  0.8828664 ],\n",
              "       [-1.1155463 , -0.1492833 ],\n",
              "       [ 0.06202627, -1.0177953 ],\n",
              "       [-0.18105319, -3.392086  ],\n",
              "       [-1.041812  , -2.026605  ],\n",
              "       [-2.4846287 , -1.1315376 ],\n",
              "       [ 0.01700322,  1.158934  ],\n",
              "       [ 1.6319778 , -1.539438  ],\n",
              "       [-1.1278491 , -0.13834643],\n",
              "       [ 0.46437165,  0.8856098 ],\n",
              "       [ 0.05938744,  1.025468  ],\n",
              "       [-0.9866343 , -0.11340637],\n",
              "       [ 1.0438442 ,  0.27550232],\n",
              "       [-0.11953823,  1.2696873 ],\n",
              "       [-0.20123889, -0.14882906],\n",
              "       [ 0.1651346 ,  0.98165077],\n",
              "       [ 0.5058326 ,  0.3587408 ],\n",
              "       [ 0.22518298, -0.72754824],\n",
              "       [-0.14871682, -0.25746894],\n",
              "       [-1.0572634 ,  0.59565616],\n",
              "       [ 1.3739685 , -0.4343838 ],\n",
              "       [-1.0414325 , -1.2063892 ],\n",
              "       [-0.8834451 , -1.1302042 ],\n",
              "       [-1.228465  ,  0.32552084],\n",
              "       [ 1.0448909 ,  0.41745085],\n",
              "       [-0.13385244, -2.6199934 ],\n",
              "       [ 0.15428506, -1.4302317 ],\n",
              "       [ 0.19855915,  1.3885319 ],\n",
              "       [-1.3788396 ,  0.03472626],\n",
              "       [-1.6206167 ,  1.4782628 ],\n",
              "       [ 1.1320887 , -1.0534375 ],\n",
              "       [ 0.1146479 , -0.7522103 ],\n",
              "       [ 0.10355107, -0.35743198],\n",
              "       [ 0.0343089 , -0.6109608 ],\n",
              "       [-0.06863962,  1.1330572 ],\n",
              "       [-0.2552247 , -0.32299817],\n",
              "       [-2.34437   , -1.3897606 ],\n",
              "       [-1.1491784 , -1.9249971 ],\n",
              "       [-0.0127341 , -0.32931003],\n",
              "       [ 1.2313026 ,  0.7268953 ],\n",
              "       [-1.1864879 , -0.43306443],\n",
              "       [-1.3145763 , -0.24111252],\n",
              "       [-1.2336785 ,  0.19531046],\n",
              "       [-0.50535923, -0.00930563],\n",
              "       [ 1.251554  , -0.98980105],\n",
              "       [ 0.2727412 ,  0.6996394 ],\n",
              "       [ 0.02950432,  1.2442425 ],\n",
              "       [-0.03851403,  1.2942207 ],\n",
              "       [ 0.3968245 , -0.16414632],\n",
              "       [-0.05137883,  1.4832135 ],\n",
              "       [-1.0113926 , -0.03106902],\n",
              "       [-1.1304811 ,  0.09203017],\n",
              "       [-0.15760554,  0.43671718],\n",
              "       [-1.239127  , -0.67039263],\n",
              "       [ 0.15873805,  1.5696375 ],\n",
              "       [ 0.23715204,  0.39173853],\n",
              "       [-0.35463247,  0.29516935],\n",
              "       [ 0.35878927, -0.03980333],\n",
              "       [-0.23087159,  0.89749324],\n",
              "       [ 0.3683706 , -0.2634999 ],\n",
              "       [ 0.1686879 ,  1.6930387 ],\n",
              "       [ 2.250189  , -1.2170669 ],\n",
              "       [-0.9863691 , -2.5226116 ],\n",
              "       [ 1.8592143 , -0.32724032],\n",
              "       [-0.2737107 ,  1.6918719 ],\n",
              "       [-0.15009962,  1.1111654 ],\n",
              "       [-0.02282934, -0.63230103],\n",
              "       [-0.2266285 ,  1.4503741 ],\n",
              "       [-1.0145514 , -0.14792293],\n",
              "       [ 0.4072088 ,  0.96613777],\n",
              "       [-0.89970654, -0.45667747],\n",
              "       [-0.21510531,  1.231201  ],\n",
              "       [-0.19394596, -0.30792767],\n",
              "       [-0.25249246,  0.7371297 ],\n",
              "       [-0.7571869 ,  2.0556912 ],\n",
              "       [-0.38747114, -0.10416491],\n",
              "       [-0.31143302, -0.23382187],\n",
              "       [-1.0208294 ,  0.02753814],\n",
              "       [-0.04100142, -0.5413123 ],\n",
              "       [ 0.11553715,  0.8459854 ],\n",
              "       [-0.67569125, -2.6202302 ],\n",
              "       [-1.4023156 , -0.01740964],\n",
              "       [ 1.7812313 , -0.1041233 ],\n",
              "       [-0.38571393, -0.16493921],\n",
              "       [-0.9783306 , -0.4223308 ],\n",
              "       [ 0.28464735,  0.55981994],\n",
              "       [ 1.365595  ,  0.22773476],\n",
              "       [ 0.8155715 , -2.570268  ],\n",
              "       [-1.3482842 , -0.03903914],\n",
              "       [ 0.02580688,  1.0693635 ],\n",
              "       [-1.1592326 ,  0.10076003],\n",
              "       [ 0.0840977 ,  1.1458209 ],\n",
              "       [ 1.3630462 , -0.6317667 ],\n",
              "       [-0.2917546 ,  1.3775258 ],\n",
              "       [ 0.2919997 ,  0.5483791 ],\n",
              "       [-0.2416923 ,  1.408042  ],\n",
              "       [ 0.88951313,  0.16090646],\n",
              "       [ 0.7935241 , -0.83765227],\n",
              "       [ 0.41157588,  0.6290864 ],\n",
              "       [ 0.5471504 ,  0.5996051 ],\n",
              "       [-0.43773478,  1.8056931 ],\n",
              "       [-0.00985352,  0.9496983 ],\n",
              "       [-0.20895523,  1.2218871 ],\n",
              "       [-1.2271271 ,  0.06882   ],\n",
              "       [ 0.31078476,  0.53129387],\n",
              "       [ 1.6926322 ,  0.73961645],\n",
              "       [ 0.3333758 , -0.60338134],\n",
              "       [ 0.8326652 ,  0.9249516 ],\n",
              "       [ 1.242079  , -0.13669425],\n",
              "       [-2.4656894 , -0.7274504 ],\n",
              "       [ 0.4141892 , -1.042718  ],\n",
              "       [-1.0305194 ,  0.04095207],\n",
              "       [ 1.5471141 ,  0.89290327],\n",
              "       [ 1.550593  ,  0.7286041 ],\n",
              "       [ 0.46308264,  0.4840847 ],\n",
              "       [-1.2714137 ,  0.1208626 ],\n",
              "       [ 0.726435  ,  1.177593  ],\n",
              "       [ 1.2082765 ,  0.13357031],\n",
              "       [ 0.30568987,  0.6524974 ],\n",
              "       [-1.0060816 , -0.08688044],\n",
              "       [-0.05065295,  1.1459508 ],\n",
              "       [ 0.91401595, -0.31065133],\n",
              "       [-0.30781436, -0.3642179 ],\n",
              "       [ 0.2023549 , -1.7001598 ],\n",
              "       [ 0.14339994,  1.4426408 ],\n",
              "       [-0.09705733,  1.2441602 ],\n",
              "       [ 0.1531787 ,  1.5060383 ],\n",
              "       [ 0.05328183,  0.37374264],\n",
              "       [-0.27615994,  0.57602066],\n",
              "       [-0.07967483,  1.0193295 ],\n",
              "       [ 0.20420083,  1.1550565 ],\n",
              "       [ 0.08235148,  0.98071647],\n",
              "       [ 0.4547838 , -1.2982048 ],\n",
              "       [ 2.1387098 , -0.33814195],\n",
              "       [ 0.11446656,  0.9399375 ],\n",
              "       [-0.23421663,  0.04884322],\n",
              "       [ 1.119698  ,  0.20984975],\n",
              "       [ 1.2265787 ,  1.1346998 ],\n",
              "       [ 1.3579333 ,  0.22040665],\n",
              "       [ 1.7892362 ,  0.03995144],\n",
              "       [-1.006695  , -0.05974183],\n",
              "       [-0.32828632,  0.17626126],\n",
              "       [-1.0224512 ,  0.01814181],\n",
              "       [ 0.0146374 ,  0.7297065 ],\n",
              "       [ 0.599492  , -1.3568299 ],\n",
              "       [ 0.8117316 , -0.48377997],\n",
              "       [ 0.28454843, -1.0938494 ],\n",
              "       [-1.5692248 ,  0.27363053],\n",
              "       [ 1.2012364 , -0.44642398],\n",
              "       [ 0.30118296, -1.2944512 ],\n",
              "       [ 0.07037745, -1.4535551 ],\n",
              "       [ 2.063309  , -1.3774372 ],\n",
              "       [-0.07061519,  0.05021838],\n",
              "       [ 2.0949605 , -1.679061  ],\n",
              "       [-0.06257438, -0.26583537],\n",
              "       [-1.3342689 , -0.1255829 ],\n",
              "       [-0.10841282,  1.3300655 ],\n",
              "       [-0.06536925,  1.6392094 ],\n",
              "       [ 0.95942366,  0.4500985 ],\n",
              "       [ 2.0811007 , -0.6218875 ],\n",
              "       [-2.4810393 , -1.3088624 ],\n",
              "       [ 2.1888485 , -2.1187048 ],\n",
              "       [ 0.5774277 ,  0.19497037],\n",
              "       [-1.2743284 , -0.28600228],\n",
              "       [-1.1962112 , -0.943183  ],\n",
              "       [-2.203891  , -1.2579018 ],\n",
              "       [ 1.7698776 , -0.8366068 ],\n",
              "       [ 1.4694155 , -0.1250526 ],\n",
              "       [ 0.7592348 ,  0.5235149 ],\n",
              "       [ 0.0792461 ,  1.3221623 ],\n",
              "       [-0.94231194,  1.1376446 ],\n",
              "       [-1.9063276 , -1.518279  ],\n",
              "       [-1.0820895 ,  0.07294414],\n",
              "       [ 0.29716793,  0.5819689 ],\n",
              "       [-0.29149133,  0.8580579 ],\n",
              "       [ 1.6429143 , -0.32392526],\n",
              "       [-0.97174275, -1.4715291 ],\n",
              "       [ 0.51323   ,  0.33740357],\n",
              "       [ 0.57218724, -1.3852531 ],\n",
              "       [ 0.1581035 ,  1.1006198 ],\n",
              "       [ 0.10445072,  1.0291986 ],\n",
              "       [ 1.2465192 ,  1.6782068 ],\n",
              "       [ 0.22457346, -0.6744347 ],\n",
              "       [ 0.43053797,  0.28295156],\n",
              "       [ 1.9893249 , -0.9600775 ],\n",
              "       [ 0.5715857 , -0.7759813 ],\n",
              "       [ 0.22922973, -0.12567958],\n",
              "       [ 0.07245117,  1.6264623 ],\n",
              "       [ 1.2262155 , -0.55238587],\n",
              "       [-0.31595793, -1.4975144 ],\n",
              "       [ 0.02303632,  1.1083333 ],\n",
              "       [ 0.14054179,  2.272429  ],\n",
              "       [ 0.08674885,  1.2016684 ],\n",
              "       [-0.33965182, -0.28887248],\n",
              "       [-0.01133816,  1.0264494 ],\n",
              "       [-0.37585205, -0.06508467],\n",
              "       [ 0.44571516, -0.41151613],\n",
              "       [-0.93901587, -0.45721808],\n",
              "       [-0.09050805, -0.5955996 ],\n",
              "       [-1.3842428 , -0.09115313],\n",
              "       [ 0.34814894,  0.6876161 ],\n",
              "       [ 0.24613775, -1.5857056 ],\n",
              "       [-1.152632  ,  0.20169649],\n",
              "       [ 0.07365273, -0.02961707],\n",
              "       [ 0.75928134, -2.429347  ],\n",
              "       [-0.16891402, -0.28297874],\n",
              "       [ 1.187918  , -0.01420079],\n",
              "       [ 0.785391  ,  0.838083  ],\n",
              "       [-2.5079765 , -0.934931  ],\n",
              "       [ 1.5229683 , -0.9314781 ],\n",
              "       [ 0.6266391 ,  0.842112  ],\n",
              "       [-0.05089506,  0.65369093],\n",
              "       [-2.5532508 , -1.3876197 ],\n",
              "       [ 0.2973056 ,  0.8418906 ],\n",
              "       [-1.0093815 , -0.20615941],\n",
              "       [ 2.2262797 , -0.86606073],\n",
              "       [ 1.4583962 ,  0.2759774 ],\n",
              "       [ 0.2925037 , -0.8386099 ],\n",
              "       [ 0.24207021,  1.1909331 ],\n",
              "       [ 0.25730488, -0.5515981 ],\n",
              "       [-1.4765744 ,  0.7724391 ],\n",
              "       [-0.93546766, -1.8081378 ],\n",
              "       [ 0.69475967,  0.9313689 ],\n",
              "       [-0.0113976 ,  0.95084655],\n",
              "       [-1.0102582 , -0.12117562],\n",
              "       [-1.0820838 , -0.3643775 ],\n",
              "       [-1.0556731 ,  0.08035307],\n",
              "       [-1.0591457 ,  0.07720474],\n",
              "       [ 1.2865931 , -0.08136141],\n",
              "       [ 2.081475  , -1.1725274 ],\n",
              "       [-2.5797713 , -1.11292   ],\n",
              "       [-2.511346  , -1.1125596 ],\n",
              "       [ 0.10305711,  0.97678536],\n",
              "       [ 0.4770972 , -0.02596341],\n",
              "       [ 0.43171754, -1.0780276 ],\n",
              "       [ 0.13061602, -1.7353578 ],\n",
              "       [ 0.19714965, -1.0893857 ],\n",
              "       [ 0.21483377, -1.3074163 ]], dtype=float32)"
            ]
          },
          "metadata": {
            "tags": []
          },
          "execution_count": 11
        }
      ]
    },
    {
      "cell_type": "markdown",
      "metadata": {
        "id": "GaEbZt94ikdz"
      },
      "source": [
        "**Construct Model**"
      ]
    },
    {
      "cell_type": "code",
      "metadata": {
        "colab": {
          "base_uri": "https://localhost:8080/"
        },
        "id": "duDXymAmirOV",
        "outputId": "21f5f95f-6dbd-4df1-fc84-3be7179e746c"
      },
      "source": [
        "model = DBSCAN(eps = 0.25, min_samples = 12, metric = 'euclidean').\\\n",
        "    fit(dbscan_data)\n",
        "model"
      ],
      "execution_count": null,
      "outputs": [
        {
          "output_type": "execute_result",
          "data": {
            "text/plain": [
              "DBSCAN(algorithm='auto', eps=0.25, leaf_size=30, metric='euclidean',\n",
              "       metric_params=None, min_samples=12, n_jobs=None, p=None)"
            ]
          },
          "metadata": {
            "tags": []
          },
          "execution_count": 12
        }
      ]
    },
    {
      "cell_type": "markdown",
      "metadata": {
        "id": "JE4uF42eiu2s"
      },
      "source": [
        "**Step #4 :- Visualize Result**"
      ]
    },
    {
      "cell_type": "code",
      "metadata": {
        "colab": {
          "base_uri": "https://localhost:8080/"
        },
        "id": "kNEd_ttXiynA",
        "outputId": "2d840934-aec7-4067-de7e-1fb608d558f4"
      },
      "source": [
        "#Separate ouliers from clustered data\n",
        "outliers_df = data[model.labels_ == -1]\n",
        "clusters_df = data[model.labels_ != -1]\n",
        "\n",
        "colors = model.labels_\n",
        "colors_clusters = colors[colors != -1]\n",
        "color_outliers = 'black'\n",
        "\n",
        "#Get info about the clusters\n",
        "clusters = Counter(model.labels_)\n",
        "print(clusters)\n",
        "print(data[model.labels_ == -1].head())\n",
        "print('Number of Clusters = ()'.format(len(clusters)-1))"
      ],
      "execution_count": null,
      "outputs": [
        {
          "output_type": "stream",
          "text": [
            "Counter({-1: 132, 0: 65, 1: 33, 2: 14})\n",
            "   country   latitude   longitude            name\n",
            "2       AF  33.939110   67.709953     Afghanistan\n",
            "8       AO -11.202692   17.873887          Angola\n",
            "9       AQ -75.250973   -0.071389      Antarctica\n",
            "10      AR -38.416097  -63.616672       Argentina\n",
            "11      AS -14.270972 -170.132217  American Samoa\n",
            "Number of Clusters = ()\n"
          ],
          "name": "stdout"
        }
      ]
    },
    {
      "cell_type": "code",
      "metadata": {
        "id": "1jxap5sUi3I7",
        "colab": {
          "base_uri": "https://localhost:8080/",
          "height": 382
        },
        "outputId": "f51f487d-0861-4e88-eb3a-1ae508664fa9"
      },
      "source": [
        "#Plot clusters and Outliers\n",
        "fig = plt.figure()\n",
        "\n",
        "ax=fig.add_axes([.1, .1, 1, 1])\n",
        "\n",
        "ax.scatter(clusters_df['longitude'], clusters_df['latitude'],  c = color_outliers, edgecolors = 'black', s=50 )\n",
        "ax.set_xlabel('Longitude', family='Arial',fontsize=9)\n",
        "ax.set_ylabel('Latitude', family='Arial',fontsize=9)\n",
        "\n",
        "plt.title('Clustered countries by DBSCAN algirithm', family='Arial', fontsize =12)\n",
        "\n",
        "plt.grid(which='major',color='#cccccc',alpha=0.45)\n",
        "\n",
        "plt.show()"
      ],
      "execution_count": null,
      "outputs": [
        {
          "output_type": "stream",
          "text": [
            "findfont: Font family ['Arial'] not found. Falling back to DejaVu Sans.\n"
          ],
          "name": "stderr"
        },
        {
          "output_type": "display_data",
          "data": {
            "image/png": "[encoded data removed]",
            "text/plain": [
              "<Figure size 432x288 with 1 Axes>"
            ]
          },
          "metadata": {
            "tags": [],
            "needs_background": "light"
          }
        }
      ]
    }
  ]
}