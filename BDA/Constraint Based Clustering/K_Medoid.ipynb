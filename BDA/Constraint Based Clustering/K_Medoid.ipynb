{
  "nbformat": 4,
  "nbformat_minor": 0,
  "metadata": {
    "colab": {
      "name": "K - Medoid.ipynb",
      "provenance": [],
      "collapsed_sections": []
    },
    "kernelspec": {
      "name": "python3",
      "display_name": "Python 3"
    },
    "language_info": {
      "name": "python"
    }
  },
  "cells": [
    {
      "cell_type": "code",
      "metadata": {
        "colab": {
          "base_uri": "https://localhost:8080/",
          "height": 411
        },
        "id": "cY5QYE1pmIGK",
        "outputId": "58fd52d7-55f8-4b72-9149-13ab95ed9dbf"
      },
      "source": [
        "!pip install scikit-learn-extra"
      ],
      "execution_count": null,
      "outputs": [
        {
          "output_type": "stream",
          "text": [
            "Collecting scikit-learn-extra\n",
            "  Downloading scikit_learn_extra-0.2.0-cp37-cp37m-manylinux2010_x86_64.whl (1.7 MB)\n",
            "\u001b[K     |████████████████████████████████| 1.7 MB 5.0 MB/s \n",
            "\u001b[?25hRequirement already satisfied: scipy>=0.19.1 in /usr/local/lib/python3.7/dist-packages (from scikit-learn-extra) (1.4.1)\n",
            "Requirement already satisfied: numpy>=1.13.3 in /usr/local/lib/python3.7/dist-packages (from scikit-learn-extra) (1.19.5)\n",
            "Collecting scikit-learn>=0.23.0\n",
            "  Downloading scikit_learn-0.24.2-cp37-cp37m-manylinux2010_x86_64.whl (22.3 MB)\n",
            "\u001b[K     |████████████████████████████████| 22.3 MB 78.3 MB/s \n",
            "\u001b[?25hCollecting threadpoolctl>=2.0.0\n",
            "  Downloading threadpoolctl-2.2.0-py3-none-any.whl (12 kB)\n",
            "Requirement already satisfied: joblib>=0.11 in /usr/local/lib/python3.7/dist-packages (from scikit-learn>=0.23.0->scikit-learn-extra) (1.0.1)\n",
            "Installing collected packages: threadpoolctl, scikit-learn, scikit-learn-extra\n",
            "  Attempting uninstall: scikit-learn\n",
            "    Found existing installation: scikit-learn 0.22.2.post1\n",
            "    Uninstalling scikit-learn-0.22.2.post1:\n",
            "      Successfully uninstalled scikit-learn-0.22.2.post1\n",
            "Successfully installed scikit-learn-0.24.2 scikit-learn-extra-0.2.0 threadpoolctl-2.2.0\n"
          ],
          "name": "stdout"
        },
        {
          "output_type": "display_data",
          "data": {
            "application/vnd.colab-display-data+json": {
              "pip_warning": {
                "packages": [
                  "sklearn"
                ]
              }
            }
          },
          "metadata": {
            "tags": []
          }
        }
      ]
    },
    {
      "cell_type": "code",
      "metadata": {
        "id": "0aW4EmKUljNa"
      },
      "source": [
        "import numpy as np\n",
        "import matplotlib.pyplot as plt\n",
        "import pandas as pd\n",
        "from sklearn.cluster import KMeans\n",
        "from sklearn_extra.cluster import KMedoids"
      ],
      "execution_count": null,
      "outputs": []
    },
    {
      "cell_type": "code",
      "metadata": {
        "id": "t1nTuqA1nI_D"
      },
      "source": [
        "from sklearn import datasets\n",
        "myiris = datasets.load_iris()\n",
        "x = myiris.data\n",
        "y = myiris.target"
      ],
      "execution_count": null,
      "outputs": []
    },
    {
      "cell_type": "code",
      "metadata": {
        "colab": {
          "base_uri": "https://localhost:8080/"
        },
        "id": "uWK2MxPophxj",
        "outputId": "3d186c22-3d93-4c5a-eff9-e24de297146d"
      },
      "source": [
        "x.shape"
      ],
      "execution_count": null,
      "outputs": [
        {
          "output_type": "execute_result",
          "data": {
            "text/plain": [
              "(150, 4)"
            ]
          },
          "metadata": {
            "tags": []
          },
          "execution_count": 3
        }
      ]
    },
    {
      "cell_type": "code",
      "metadata": {
        "colab": {
          "base_uri": "https://localhost:8080/"
        },
        "id": "G3C1xQasppTW",
        "outputId": "076e536c-e1e9-4a35-ac8a-a075fb6b6a07"
      },
      "source": [
        "y.shape"
      ],
      "execution_count": null,
      "outputs": [
        {
          "output_type": "execute_result",
          "data": {
            "text/plain": [
              "(150,)"
            ]
          },
          "metadata": {
            "tags": []
          },
          "execution_count": 5
        }
      ]
    },
    {
      "cell_type": "code",
      "metadata": {
        "colab": {
          "base_uri": "https://localhost:8080/"
        },
        "id": "NBMlv6YDpwGb",
        "outputId": "cd27442e-5712-41e5-82e7-2253bd1cecd3"
      },
      "source": [
        "y"
      ],
      "execution_count": null,
      "outputs": [
        {
          "output_type": "execute_result",
          "data": {
            "text/plain": [
              "array([0, 0, 0, 0, 0, 0, 0, 0, 0, 0, 0, 0, 0, 0, 0, 0, 0, 0, 0, 0, 0, 0,\n",
              "       0, 0, 0, 0, 0, 0, 0, 0, 0, 0, 0, 0, 0, 0, 0, 0, 0, 0, 0, 0, 0, 0,\n",
              "       0, 0, 0, 0, 0, 0, 1, 1, 1, 1, 1, 1, 1, 1, 1, 1, 1, 1, 1, 1, 1, 1,\n",
              "       1, 1, 1, 1, 1, 1, 1, 1, 1, 1, 1, 1, 1, 1, 1, 1, 1, 1, 1, 1, 1, 1,\n",
              "       1, 1, 1, 1, 1, 1, 1, 1, 1, 1, 1, 1, 2, 2, 2, 2, 2, 2, 2, 2, 2, 2,\n",
              "       2, 2, 2, 2, 2, 2, 2, 2, 2, 2, 2, 2, 2, 2, 2, 2, 2, 2, 2, 2, 2, 2,\n",
              "       2, 2, 2, 2, 2, 2, 2, 2, 2, 2, 2, 2, 2, 2, 2, 2, 2, 2])"
            ]
          },
          "metadata": {
            "tags": []
          },
          "execution_count": 6
        }
      ]
    },
    {
      "cell_type": "markdown",
      "metadata": {
        "id": "-uAPJ1F-p3-5"
      },
      "source": [
        "**Scaling and Fitting KMedoids**"
      ]
    },
    {
      "cell_type": "code",
      "metadata": {
        "id": "wm8DhLHerfbz"
      },
      "source": [
        "from sklearn.preprocessing import StandardScaler\n",
        "from sklearn_extra.cluster import KMedoids\n",
        "scaler = StandardScaler().fit(x)\n",
        "x_scaled = scaler.transform(x)\n",
        "kMedoids = KMedoids(n_clusters = 3, random_state = 0)\n",
        "kMedoids.fit(x_scaled)\n",
        "y_kmed = kMedoids.fit_predict(x_scaled)"
      ],
      "execution_count": null,
      "outputs": []
    },
    {
      "cell_type": "code",
      "metadata": {
        "colab": {
          "base_uri": "https://localhost:8080/"
        },
        "id": "MVGxa5jpswy7",
        "outputId": "bc8f77eb-3f85-4e7f-aaa6-e7fa7e13050e"
      },
      "source": [
        "y_kmed"
      ],
      "execution_count": null,
      "outputs": [
        {
          "output_type": "execute_result",
          "data": {
            "text/plain": [
              "array([0, 0, 0, 0, 0, 0, 0, 0, 0, 0, 0, 0, 0, 0, 0, 0, 0, 0, 0, 0, 0, 0,\n",
              "       0, 0, 0, 0, 0, 0, 0, 0, 0, 0, 0, 0, 0, 0, 0, 0, 0, 0, 0, 0, 0, 0,\n",
              "       0, 0, 0, 0, 0, 0, 2, 2, 2, 1, 1, 1, 2, 1, 1, 1, 1, 1, 1, 1, 1, 2,\n",
              "       1, 1, 1, 1, 1, 1, 1, 1, 1, 2, 2, 2, 1, 1, 1, 1, 1, 1, 1, 1, 2, 1,\n",
              "       1, 1, 1, 1, 1, 1, 1, 1, 1, 1, 1, 1, 2, 1, 2, 2, 2, 2, 1, 2, 2, 2,\n",
              "       2, 2, 2, 1, 1, 2, 2, 2, 2, 1, 2, 1, 2, 1, 2, 2, 1, 1, 2, 2, 2, 2,\n",
              "       2, 1, 1, 2, 2, 2, 1, 2, 2, 2, 1, 2, 2, 2, 1, 2, 2, 1])"
            ]
          },
          "metadata": {
            "tags": []
          },
          "execution_count": 23
        }
      ]
    },
    {
      "cell_type": "code",
      "metadata": {
        "colab": {
          "base_uri": "https://localhost:8080/"
        },
        "id": "OGqWPgTStHgl",
        "outputId": "087ab634-bcf9-465e-f5e1-5b1c4db3c432"
      },
      "source": [
        "kMedoids.inertia_"
      ],
      "execution_count": null,
      "outputs": [
        {
          "output_type": "execute_result",
          "data": {
            "text/plain": [
              "131.87877332824286"
            ]
          },
          "metadata": {
            "tags": []
          },
          "execution_count": 25
        }
      ]
    },
    {
      "cell_type": "markdown",
      "metadata": {
        "id": "kSltec6CtfEn"
      },
      "source": [
        "**How to use Silhouette to evaluate cluster**"
      ]
    },
    {
      "cell_type": "code",
      "metadata": {
        "colab": {
          "base_uri": "https://localhost:8080/"
        },
        "id": "YBERy2V3tf7b",
        "outputId": "52e6c66c-afa9-4a6b-88a9-e9bd0d7578cf"
      },
      "source": [
        "from sklearn.metrics import silhouette_samples, silhouette_score\n",
        "kMedoids = KMedoids(n_clusters=3, random_state=0)\n",
        "kMedoids.fit(x_scaled)\n",
        "y_kmed = kMedoids.fit_predict(x_scaled)\n",
        "silhouette_avg = silhouette_score(x_scaled,y_kmed)\n",
        "print(silhouette_avg)"
      ],
      "execution_count": null,
      "outputs": [
        {
          "output_type": "stream",
          "text": [
            "0.4590416105554613\n"
          ],
          "name": "stdout"
        }
      ]
    },
    {
      "cell_type": "code",
      "metadata": {
        "colab": {
          "base_uri": "https://localhost:8080/"
        },
        "id": "6XgqfHvEvDT5",
        "outputId": "1b5ddb96-87db-400c-eea1-7469f6a19c34"
      },
      "source": [
        "import numpy as np\n",
        "sample_silhouette_values = silhouette_samples(x_scaled,y_kmed)\n",
        "for i in range(3):\n",
        "  ith_cluster_silhouette_values = sample_silhouette_values[y_kmed == i]\n",
        "  print(np.mean(ith_cluster_silhouette_values))"
      ],
      "execution_count": null,
      "outputs": [
        {
          "output_type": "stream",
          "text": [
            "0.636330614585637\n",
            "0.3768888598233938\n",
            "0.36213487963471125\n"
          ],
          "name": "stdout"
        }
      ]
    },
    {
      "cell_type": "markdown",
      "metadata": {
        "id": "ozogvDGLv5IZ"
      },
      "source": [
        "**How to use Silhouette width to find number of cluster**"
      ]
    },
    {
      "cell_type": "code",
      "metadata": {
        "id": "ghz2kZaXwAWm"
      },
      "source": [
        "sw = []\n",
        "\n",
        "for i in range(2,11):\n",
        "  kMedoids = KMedoids(n_clusters=i,random_state=0)\n",
        "  kMedoids.fit(x_scaled)\n",
        "  y_kmed = kMedoids.fit_predict(x_scaled)\n",
        "  silhouette_avg=silhouette_score(x_scaled,y_kmed)\n",
        "  sw.append(silhouette_avg)"
      ],
      "execution_count": null,
      "outputs": []
    },
    {
      "cell_type": "code",
      "metadata": {
        "colab": {
          "base_uri": "https://localhost:8080/",
          "height": 295
        },
        "id": "0xQ2MyVYwtGz",
        "outputId": "a740d596-d7a0-431c-bd14-a6eeac1fd86f"
      },
      "source": [
        "import matplotlib.pyplot as plt\n",
        "plt.plot(range(2,11),sw)\n",
        "plt.title('Silhouette Score')\n",
        "plt.xlabel('Number of clusters')\n",
        "plt.ylabel('SW') #Within cluster sum of squares\n",
        "plt.show()"
      ],
      "execution_count": null,
      "outputs": [
        {
          "output_type": "display_data",
          "data": {
            "image/png": "[encoded data removed]",
            "text/plain": [
              "<Figure size 432x288 with 1 Axes>"
            ]
          },
          "metadata": {
            "tags": [],
            "needs_background": "light"
          }
        }
      ]
    },
    {
      "cell_type": "code",
      "metadata": {
        "id": "JHRWrc4uxjrq"
      },
      "source": [
        "from sklearn import metrics\n",
        "\n",
        "def purity_score(y_true, y_pred):\n",
        "  # Compute contingency metrix (also called confusion metrix)\n",
        "  contingency_matrix = metrics.cluster.contingency_matrix(y_true, y_pred)\n",
        "  # Return purity\n",
        "  return np.sum(np.amax(contingency_matrix,axis=0)) /np.sum(contingency_matrix)"
      ],
      "execution_count": null,
      "outputs": []
    },
    {
      "cell_type": "markdown",
      "metadata": {
        "id": "ZAWtdb6kyX8e"
      },
      "source": [
        "**How Extreme values effect K - Medoid compared to K - Means**"
      ]
    },
    {
      "cell_type": "code",
      "metadata": {
        "colab": {
          "base_uri": "https://localhost:8080/"
        },
        "id": "N1Buk-vYynbo",
        "outputId": "1d185a07-565f-484b-c867-5e6575cd7dae"
      },
      "source": [
        "from sklearn.cluster import KMeans\n",
        "kmeans = KMeans(n_clusters = 3,init = 'random', max_iter = 300, n_init = 10, random_state = 0)\n",
        "y_kmeans = kmeans.fit_predict(x_scaled)\n",
        "purity_score(y,y_kmeans)"
      ],
      "execution_count": null,
      "outputs": [
        {
          "output_type": "execute_result",
          "data": {
            "text/plain": [
              "0.8333333333333334"
            ]
          },
          "metadata": {
            "tags": []
          },
          "execution_count": 38
        }
      ]
    },
    {
      "cell_type": "markdown",
      "metadata": {
        "id": "55d3iuWpzaGl"
      },
      "source": [
        "**Visualization**"
      ]
    },
    {
      "cell_type": "code",
      "metadata": {
        "colab": {
          "base_uri": "https://localhost:8080/",
          "height": 282
        },
        "id": "SGxfCfmdylsj",
        "outputId": "30a9c79c-1aa7-437f-c261-bfb1fb920703"
      },
      "source": [
        "plt.scatter(x_scaled[y_kmeans == 0,0], x_scaled[y_kmeans == 0,1],s=100,c='red',label='C1')\n",
        "plt.scatter(x_scaled[y_kmeans == 1,0], x_scaled[y_kmeans == 1,1],s=100,c='blue',label='C2')\n",
        "plt.scatter(x_scaled[y_kmeans == 2,0], x_scaled[y_kmeans == 2,1],s=100,c='green',label='C3')\n",
        "plt.scatter(kmeans.cluster_centers_[:,0], kmeans.cluster_centers_[:,1],s=100,c='yellow',label='C4')\n",
        "plt.legend()"
      ],
      "execution_count": null,
      "outputs": [
        {
          "output_type": "execute_result",
          "data": {
            "text/plain": [
              "<matplotlib.legend.Legend at 0x7ff2ac383e50>"
            ]
          },
          "metadata": {
            "tags": []
          },
          "execution_count": 39
        },
        {
          "output_type": "display_data",
          "data": {
            "image/png": "[encoded data removed]",
            "text/plain": [
              "<Figure size 432x288 with 1 Axes>"
            ]
          },
          "metadata": {
            "tags": [],
            "needs_background": "light"
          }
        }
      ]
    },
    {
      "cell_type": "code",
      "metadata": {
        "colab": {
          "base_uri": "https://localhost:8080/"
        },
        "id": "KsWgubgI0pAO",
        "outputId": "a6518e09-e9e7-411a-b13d-176557e235c0"
      },
      "source": [
        "from sklearn_extra.cluster import KMedoids\n",
        "kmedoids = KMedoids(n_clusters=3,random_state=0).fit(x_scaled)\n",
        "y_kmed = kmedoids.fit_predict(x_scaled)\n",
        "purity_score(y,y_kmed)"
      ],
      "execution_count": null,
      "outputs": [
        {
          "output_type": "execute_result",
          "data": {
            "text/plain": [
              "0.84"
            ]
          },
          "metadata": {
            "tags": []
          },
          "execution_count": 42
        }
      ]
    },
    {
      "cell_type": "code",
      "metadata": {
        "colab": {
          "base_uri": "https://localhost:8080/",
          "height": 282
        },
        "id": "ZzUQ1_0_1a0T",
        "outputId": "4e892af4-1bca-4ca3-b540-d5f9b4ccbe41"
      },
      "source": [
        "plt.scatter(x_scaled[y_kmed == 0,0], x_scaled[y_kmed == 0,1],s=100,c='red',label='C1')\n",
        "plt.scatter(x_scaled[y_kmed == 1,0], x_scaled[y_kmed == 1,1],s=100,c='blue',label='C2')\n",
        "plt.scatter(x_scaled[y_kmed == 2,0], x_scaled[y_kmed == 2,1],s=100,c='green',label='C3')\n",
        "plt.scatter(kmedoids.cluster_centers_[:,0], kmedoids.cluster_centers_[:,1],s=100,c='yellow',label='C4')\n",
        "plt.legend()"
      ],
      "execution_count": null,
      "outputs": [
        {
          "output_type": "execute_result",
          "data": {
            "text/plain": [
              "<matplotlib.legend.Legend at 0x7ff2ac2abd10>"
            ]
          },
          "metadata": {
            "tags": []
          },
          "execution_count": 51
        },
        {
          "output_type": "display_data",
          "data": {
            "image/png": "[encoded data removed]",
            "text/plain": [
              "<Figure size 432x288 with 1 Axes>"
            ]
          },
          "metadata": {
            "tags": [],
            "needs_background": "light"
          }
        }
      ]
    },
    {
      "cell_type": "markdown",
      "metadata": {
        "id": "WAKLDw5n1nPK"
      },
      "source": [
        "**Adding Extreme values**"
      ]
    },
    {
      "cell_type": "code",
      "metadata": {
        "colab": {
          "base_uri": "https://localhost:8080/"
        },
        "id": "VbbGFxPk1qS4",
        "outputId": "3873daee-2c02-4d2b-9e88-8148679cd023"
      },
      "source": [
        "import numpy as np\n",
        "m=np.append(x,[[10,10,10,10],[15,15,15,15],[12,12,12,12]], axis = 0)\n",
        "m.shape\n",
        "y=np.append(y,[2,2,2])\n",
        "y"
      ],
      "execution_count": null,
      "outputs": [
        {
          "output_type": "execute_result",
          "data": {
            "text/plain": [
              "array([0, 0, 0, 0, 0, 0, 0, 0, 0, 0, 0, 0, 0, 0, 0, 0, 0, 0, 0, 0, 0, 0,\n",
              "       0, 0, 0, 0, 0, 0, 0, 0, 0, 0, 0, 0, 0, 0, 0, 0, 0, 0, 0, 0, 0, 0,\n",
              "       0, 0, 0, 0, 0, 0, 1, 1, 1, 1, 1, 1, 1, 1, 1, 1, 1, 1, 1, 1, 1, 1,\n",
              "       1, 1, 1, 1, 1, 1, 1, 1, 1, 1, 1, 1, 1, 1, 1, 1, 1, 1, 1, 1, 1, 1,\n",
              "       1, 1, 1, 1, 1, 1, 1, 1, 1, 1, 1, 1, 2, 2, 2, 2, 2, 2, 2, 2, 2, 2,\n",
              "       2, 2, 2, 2, 2, 2, 2, 2, 2, 2, 2, 2, 2, 2, 2, 2, 2, 2, 2, 2, 2, 2,\n",
              "       2, 2, 2, 2, 2, 2, 2, 2, 2, 2, 2, 2, 2, 2, 2, 2, 2, 2, 2, 2, 2])"
            ]
          },
          "metadata": {
            "tags": []
          },
          "execution_count": 44
        }
      ]
    },
    {
      "cell_type": "code",
      "metadata": {
        "id": "jr4LFyGE2R00"
      },
      "source": [
        "scaler = StandardScaler().fit(m)\n",
        "x_scaled=scaler.transform(m)"
      ],
      "execution_count": null,
      "outputs": []
    },
    {
      "cell_type": "code",
      "metadata": {
        "colab": {
          "base_uri": "https://localhost:8080/"
        },
        "id": "LWaJjlBj2qwq",
        "outputId": "9ce55a74-45fe-4de5-aeb8-b360b08d26d6"
      },
      "source": [
        "kmeans=KMeans(n_clusters=3,init='random',max_iter = 300,n_init =10,random_state=0)\n",
        "y_kmeans=kmeans=kmeans.fit_predict(x_scaled)\n",
        "purity_score(y,y_kmeans)"
      ],
      "execution_count": null,
      "outputs": [
        {
          "output_type": "execute_result",
          "data": {
            "text/plain": [
              "0.673202614379085"
            ]
          },
          "metadata": {
            "tags": []
          },
          "execution_count": 46
        }
      ]
    },
    {
      "cell_type": "code",
      "metadata": {
        "colab": {
          "base_uri": "https://localhost:8080/"
        },
        "id": "0JCyfjMC3I3R",
        "outputId": "01ebdd81-4db3-4f4e-d2b5-d6299f1a2a18"
      },
      "source": [
        "from sklearn_extra.cluster import KMedoids\n",
        "kmedoids=KMedoids(n_clusters=3,random_state=0)\n",
        "y_kmed=kmedoids.fit_predict(x_scaled)\n",
        "purity_score(y,y_kmed)"
      ],
      "execution_count": null,
      "outputs": [
        {
          "output_type": "execute_result",
          "data": {
            "text/plain": [
              "0.8627450980392157"
            ]
          },
          "metadata": {
            "tags": []
          },
          "execution_count": 50
        }
      ]
    },
    {
      "cell_type": "code",
      "metadata": {
        "colab": {
          "base_uri": "https://localhost:8080/",
          "height": 282
        },
        "id": "eY93mNhD4RTF",
        "outputId": "13bc9c16-2cab-4144-8f79-53f78ecbcba1"
      },
      "source": [
        "plt.scatter(x_scaled[y_kmed == 0,0], x_scaled[y_kmed == 0,1],s=100,c='red',label='C1')\n",
        "plt.scatter(x_scaled[y_kmed == 1,0], x_scaled[y_kmed == 1,1],s=100,c='blue',label='C2')\n",
        "plt.scatter(x_scaled[y_kmed == 2,0], x_scaled[y_kmed == 2,1],s=100,c='green',label='C3')\n",
        "plt.scatter(kmedoids.cluster_centers_[:,0], kmedoids.cluster_centers_[:,1],s=100,c='yellow',label='C4')\n",
        "plt.legend()"
      ],
      "execution_count": null,
      "outputs": [
        {
          "output_type": "execute_result",
          "data": {
            "text/plain": [
              "<matplotlib.legend.Legend at 0x7ff2ac1b2690>"
            ]
          },
          "metadata": {
            "tags": []
          },
          "execution_count": 52
        },
        {
          "output_type": "display_data",
          "data": {
            "image/png": "[encoded data removed]",
            "text/plain": [
              "<Figure size 432x288 with 1 Axes>"
            ]
          },
          "metadata": {
            "tags": [],
            "needs_background": "light"
          }
        }
      ]
    },
    {
      "cell_type": "code",
      "metadata": {
        "colab": {
          "base_uri": "https://localhost:8080/"
        },
        "id": "z_Y6SG1E7Fnp",
        "outputId": "40edf796-da95-4aa5-db9b-6f975210ba56"
      },
      "source": [
        "from sklearn.cluster import KMeans\n",
        "kmeans = KMeans(n_clusters = 3,init = 'random', max_iter = 300, n_init = 10, random_state = 0)\n",
        "y_kmeans = kmeans.fit_predict(x_scaled)\n",
        "purity_score(y,y_kmeans)"
      ],
      "execution_count": null,
      "outputs": [
        {
          "output_type": "execute_result",
          "data": {
            "text/plain": [
              "0.673202614379085"
            ]
          },
          "metadata": {
            "tags": []
          },
          "execution_count": 61
        }
      ]
    },
    {
      "cell_type": "code",
      "metadata": {
        "colab": {
          "base_uri": "https://localhost:8080/",
          "height": 282
        },
        "id": "ewVV6z5I7RGL",
        "outputId": "42bf6410-428b-4fbd-ed81-6c46b374e69b"
      },
      "source": [
        "plt.scatter(x_scaled[y_kmeans == 0,0], x_scaled[y_kmeans == 0,1],s=100,c='red',label='C1')\n",
        "plt.scatter(x_scaled[y_kmeans == 1,0], x_scaled[y_kmeans == 1,1],s=100,c='blue',label='C2')\n",
        "plt.scatter(x_scaled[y_kmeans == 2,0], x_scaled[y_kmeans == 2,1],s=100,c='green',label='C3')\n",
        "plt.scatter(kmeans.cluster_centers_[:,0], kmeans.cluster_centers_[:,1],s=100,c='yellow',label='C4')\n",
        "plt.legend()"
      ],
      "execution_count": null,
      "outputs": [
        {
          "output_type": "execute_result",
          "data": {
            "text/plain": [
              "<matplotlib.legend.Legend at 0x7ff2abe27b10>"
            ]
          },
          "metadata": {
            "tags": []
          },
          "execution_count": 62
        },
        {
          "output_type": "display_data",
          "data": {
            "image/png": "[encoded data removed]",
            "text/plain": [
              "<Figure size 432x288 with 1 Axes>"
            ]
          },
          "metadata": {
            "tags": [],
            "needs_background": "light"
          }
        }
      ]
    },
    {
      "cell_type": "code",
      "metadata": {
        "id": "fkfnz_du7X9V"
      },
      "source": [
        "data = [['K - Means',0.81], ['K - Means With Ouliers', 0.67], ['K - Medoid',0.84],['K - Medoid with Outliers',0.71]]\n",
        "df = pd.DataFrame(data, columns=['Method','Purity'])"
      ],
      "execution_count": null,
      "outputs": []
    },
    {
      "cell_type": "code",
      "metadata": {
        "colab": {
          "base_uri": "https://localhost:8080/",
          "height": 422
        },
        "id": "AtqtMor479WC",
        "outputId": "b148e70e-cbd3-4e1a-ce7d-6fb87d394cd0"
      },
      "source": [
        "df.plot.bar(x='Method',y='Purity',title='Cluster Quality')"
      ],
      "execution_count": null,
      "outputs": [
        {
          "output_type": "execute_result",
          "data": {
            "text/plain": [
              "<matplotlib.axes._subplots.AxesSubplot at 0x7ff2ab93e250>"
            ]
          },
          "metadata": {
            "tags": []
          },
          "execution_count": 64
        },
        {
          "output_type": "display_data",
          "data": {
            "image/png": "[encoded data removed]",
            "text/plain": [
              "<Figure size 432x288 with 1 Axes>"
            ]
          },
          "metadata": {
            "tags": [],
            "needs_background": "light"
          }
        }
      ]
    }
  ]
}