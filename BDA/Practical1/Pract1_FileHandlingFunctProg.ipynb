{
  "nbformat": 4,
  "nbformat_minor": 0,
  "metadata": {
    "colab": {
      "name": "Pract1_FileHandlingFunctProg.ipynb",
      "provenance": [],
      "collapsed_sections": []
    },
    "kernelspec": {
      "name": "python3",
      "display_name": "Python 3"
    },
    "language_info": {
      "name": "python"
    }
  },
  "cells": [
    {
      "cell_type": "markdown",
      "metadata": {
        "id": "2ZlfXXJ7h_9N"
      },
      "source": [
        "# **PRACTICAL 1** "
      ]
    },
    {
      "cell_type": "markdown",
      "metadata": {
        "id": "S1hwjHdTiMFP"
      },
      "source": [
        "### **AIM:** :\n",
        "To implement file handling and Functional Programming in Python."
      ]
    },
    {
      "cell_type": "markdown",
      "metadata": {
        "id": "1aqqUtvkiaqH"
      },
      "source": [
        "### **THEORY:**\n",
        "File handling is an important part of any web application.\n",
        "Python has several functions for creating, reading, updating, and deleting files.\n",
        "The key function for working with files in Python is the open() function.\n",
        "\n",
        "The open() function takes two parameters; filename, and mode.\n",
        "\n",
        "There are four different methods (modes) for opening a file:\n",
        "\n",
        "\"r\" - Read - Default value. Opens a file for reading, error if the file does not exist\n",
        "\n",
        "\"a\" - Append - Opens a file for appending, creates the file if it does not exist\n",
        "\n",
        "\"w\" - Write - Opens a file for writing, creates the file if it does not exist\n",
        "\n",
        "\"x\" - Create - Creates the specified file, returns an error if the file exists\n",
        "\n",
        "Functional programming is a programming paradigm in which we try to bind everything in pure mathematical functions style. It is a declarative type of programming style. Its main focus is on “what to solve” in contrast to an imperative style where the main focus is “how to solve“. It uses expressions instead of statements. An expression is evaluated to produce a value whereas a statement is executed to assign variables."
      ]
    },
    {
      "cell_type": "markdown",
      "metadata": {
        "id": "O-wCccWq-yUo"
      },
      "source": [
        "### **Example - File Handling in Python**\n"
      ]
    },
    {
      "cell_type": "code",
      "metadata": {
        "id": "JPERfWo0-0UP"
      },
      "source": [
        "#Create Ex1.txt file in sample_data and Write line to file\n",
        "with open('/content/sample_data/Ex1.txt', 'w') as writefile:\n",
        "    writefile.write(\"This is a first line\")\n"
      ],
      "execution_count": null,
      "outputs": []
    },
    {
      "cell_type": "code",
      "metadata": {
        "colab": {
          "base_uri": "https://localhost:8080/"
        },
        "id": "E1uGa4Rg_L0O",
        "outputId": "04cb2bb3-51ec-42ad-aedd-0ebc26a3cced"
      },
      "source": [
        "#Read the contents of file \n",
        "\n",
        "#Read Ex1.txt file and display cobtents of file\n",
        "with open('/content/sample_data/Ex1.txt', 'r') as writefile:\n",
        "    print(writefile.read())\n",
        " \n"
      ],
      "execution_count": null,
      "outputs": [
        {
          "output_type": "stream",
          "text": [
            "This is a first line\n"
          ],
          "name": "stdout"
        }
      ]
    },
    {
      "cell_type": "code",
      "metadata": {
        "id": "mYR9LKBw_Qyk"
      },
      "source": [
        "#Append the text into the file\n",
        "# Add / Append the contents to the end of file\n",
        "with open('/content/sample_data/Ex1.txt', 'a') as writefile:\n",
        "    writefile.write(\"\\n This is a Second line.\")\n"
      ],
      "execution_count": null,
      "outputs": []
    },
    {
      "cell_type": "code",
      "metadata": {
        "id": "F_nvV3Fs_UQM"
      },
      "source": [
        "#Store a text into a variable\n",
        " \n",
        "Text1 = \"Apache Hadoop is a collection of open-source software utilities that facilitates using a network of many computers to solve problems involving massive amounts of data and computation. It provides a software framework for distributed storage and processing of big data using the MapReduce programming model. Wikipedia\"\n"
      ],
      "execution_count": null,
      "outputs": []
    },
    {
      "cell_type": "code",
      "metadata": {
        "id": "KQrqLZC9_Xf9"
      },
      "source": [
        "#Append the contents of Text variable into the Ex1.txt file\n",
        "with open('/content/sample_data/Ex1.txt', 'a') as writefile:\n",
        "    writefile.write(Text1)\n"
      ],
      "execution_count": null,
      "outputs": []
    },
    {
      "cell_type": "code",
      "metadata": {
        "id": "MaWPbysi_aeg"
      },
      "source": [
        "# Copy file to another\n",
        " \n",
        "with open('/content/sample_data/Ex1.txt','r') as readfile:\n",
        "    with open('/content/sample_data/Ex2.txt','w') as writefile:\n",
        "          for line in readfile:\n",
        "                writefile.write(line)\n"
      ],
      "execution_count": null,
      "outputs": []
    },
    {
      "cell_type": "markdown",
      "metadata": {
        "id": "gqe86xj-_lqt"
      },
      "source": [
        "### **Functional Programming**\n"
      ]
    },
    {
      "cell_type": "code",
      "metadata": {
        "id": "q00GI7dT_ovM"
      },
      "source": [
        "\n",
        "#create a function to calulate the sqaure of a number\n",
        "def sqNo(x):\n",
        "  return x*x\n"
      ],
      "execution_count": null,
      "outputs": []
    },
    {
      "cell_type": "code",
      "metadata": {
        "colab": {
          "base_uri": "https://localhost:8080/"
        },
        "id": "5FDFYjzt_rS9",
        "outputId": "c01eb8fb-54fe-48d7-f2a7-567e9f2955ae"
      },
      "source": [
        "#Call function\n",
        "x=5\n",
        "sqNo(x)\n"
      ],
      "execution_count": null,
      "outputs": [
        {
          "output_type": "execute_result",
          "data": {
            "text/plain": [
              "25"
            ]
          },
          "metadata": {
            "tags": []
          },
          "execution_count": 8
        }
      ]
    },
    {
      "cell_type": "markdown",
      "metadata": {
        "id": "fr1Z2MnP_1Gy"
      },
      "source": [
        "Example - Create list and append the values into the existing list\n"
      ]
    },
    {
      "cell_type": "code",
      "metadata": {
        "colab": {
          "base_uri": "https://localhost:8080/"
        },
        "id": "HDCvJKTm_who",
        "outputId": "ce36df82-59a6-4b55-c3c1-bffcccd85ec5"
      },
      "source": [
        "l1 = [10, 20, 30, 40, 50]\n",
        "l2=[100,110,120]\n",
        "for i in l2:\n",
        "  l1.append(i)\n",
        "l1\n"
      ],
      "execution_count": null,
      "outputs": [
        {
          "output_type": "execute_result",
          "data": {
            "text/plain": [
              "[10, 20, 30, 40, 50, 100, 110, 120]"
            ]
          },
          "metadata": {
            "tags": []
          },
          "execution_count": 9
        }
      ]
    },
    {
      "cell_type": "markdown",
      "metadata": {
        "id": "4HqFqPJ6_4G_"
      },
      "source": [
        "Example - Pass list data to the function and return the list "
      ]
    },
    {
      "cell_type": "code",
      "metadata": {
        "colab": {
          "base_uri": "https://localhost:8080/"
        },
        "id": "uAYy6Xyc_5DW",
        "outputId": "66c5241e-6d39-48a8-e64b-5e68c79fb2ab"
      },
      "source": [
        "#Calculate the square of each element of list\n",
        "def dbl(data):\n",
        "    result = []\n",
        "    for i in data:\n",
        "        result.append(i * i)\n",
        "    return result\n",
        " \n",
        "#Call function\n",
        "dbl([1,2,3,4])\n"
      ],
      "execution_count": null,
      "outputs": [
        {
          "output_type": "execute_result",
          "data": {
            "text/plain": [
              "[1, 4, 9, 16]"
            ]
          },
          "metadata": {
            "tags": []
          },
          "execution_count": 10
        }
      ]
    },
    {
      "cell_type": "markdown",
      "metadata": {
        "id": "JhlmUCOuAB6v"
      },
      "source": [
        "Example - Functional Programming - Traditional Approach\n"
      ]
    },
    {
      "cell_type": "code",
      "metadata": {
        "colab": {
          "base_uri": "https://localhost:8080/"
        },
        "id": "xqsDafpsACqi",
        "outputId": "6388a3b3-690c-490a-f6eb-f829b32947f8"
      },
      "source": [
        "def squared(x):\n",
        "    return x*x\n",
        " \n",
        "def double(x):\n",
        "    return x*2\n",
        " \n",
        "def squareAll(data):\n",
        "    result = []\n",
        "    for i in data:\n",
        "        result.append(squared(i))\n",
        "    return result\n",
        " \n",
        "def doubleAll(data):\n",
        "    result = []\n",
        "    for i in data:\n",
        "        result.append(double(i))\n",
        "    return result\n",
        " \n",
        "def apply_f_All(f, data):\n",
        "    result = []\n",
        "    for x in data:\n",
        "        result.append(f(x))\n",
        "    return result\n",
        " \n",
        "apply_f_All(squared, [1, 2, 3, 4, 5])\n"
      ],
      "execution_count": null,
      "outputs": [
        {
          "output_type": "execute_result",
          "data": {
            "text/plain": [
              "[1, 4, 9, 16, 25]"
            ]
          },
          "metadata": {
            "tags": []
          },
          "execution_count": 11
        }
      ]
    },
    {
      "cell_type": "markdown",
      "metadata": {
        "id": "sqbOze-8AHH2"
      },
      "source": [
        "Example - Functional Programming using lambda expression \n"
      ]
    },
    {
      "cell_type": "code",
      "metadata": {
        "colab": {
          "base_uri": "https://localhost:8080/"
        },
        "id": "23kjXAKkj54a",
        "outputId": "01804217-f194-4009-8a38-583718155a37"
      },
      "source": [
        "def myfunc(n):\n",
        "  return lambda a : a * n\n",
        "\n",
        "mydoubler = myfunc(2)\n",
        "mytripler = myfunc(3)\n",
        "\n",
        "print(mydoubler(11))\n",
        "print(mytripler(11))"
      ],
      "execution_count": null,
      "outputs": [
        {
          "output_type": "stream",
          "text": [
            "22\n",
            "33\n"
          ],
          "name": "stdout"
        }
      ]
    },
    {
      "cell_type": "code",
      "metadata": {
        "colab": {
          "base_uri": "https://localhost:8080/"
        },
        "id": "JN3-qPmks9V4",
        "outputId": "d6c1e862-4f8d-4dff-acd3-63afec6aa461"
      },
      "source": [
        "# Lambda function to calculate square of a number\n",
        "square = lambda x: x ** 2\n",
        "print(square(3)) # Output: 9\n",
        "\n",
        "# Traditional function to calculate square of a number\n",
        "def square1(num):\n",
        "  return num ** 2\n",
        "print(square(5)) # Output: 25"
      ],
      "execution_count": null,
      "outputs": [
        {
          "output_type": "stream",
          "text": [
            "9\n",
            "25\n"
          ],
          "name": "stdout"
        }
      ]
    },
    {
      "cell_type": "code",
      "metadata": {
        "colab": {
          "base_uri": "https://localhost:8080/"
        },
        "id": "qYgGw1eXtIrr",
        "outputId": "6d10e5d2-162f-4b79-c468-fc2b9b18745b"
      },
      "source": [
        "lambda_func = lambda x: True if x**2 >= 10 else False\n",
        "print(lambda_func(3)) # Returns False\n",
        "print(lambda_func(4)) # Returns True"
      ],
      "execution_count": null,
      "outputs": [
        {
          "output_type": "stream",
          "text": [
            "False\n",
            "True\n"
          ],
          "name": "stdout"
        }
      ]
    },
    {
      "cell_type": "code",
      "metadata": {
        "colab": {
          "base_uri": "https://localhost:8080/"
        },
        "id": "yEOvvEZqtM2b",
        "outputId": "25b5800b-32b3-408b-a07c-841d4bf2610e"
      },
      "source": [
        "my_dict = {\"A\": 1, \"B\": 2, \"C\": 3}\n",
        "sorted(my_dict, key=lambda x: my_dict[x]%3) # Returns ['C', 'A', 'B']"
      ],
      "execution_count": null,
      "outputs": [
        {
          "output_type": "execute_result",
          "data": {
            "text/plain": [
              "['C', 'A', 'B']"
            ]
          },
          "metadata": {
            "tags": []
          },
          "execution_count": 21
        }
      ]
    }
  ]
}