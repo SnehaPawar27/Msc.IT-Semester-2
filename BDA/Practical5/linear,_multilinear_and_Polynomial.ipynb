{
  "nbformat": 4,
  "nbformat_minor": 0,
  "metadata": {
    "colab": {
      "name": "linear, multilinear and Polynomial.ipynb",
      "provenance": [],
      "collapsed_sections": [],
      "include_colab_link": true
    },
    "kernelspec": {
      "name": "python3",
      "display_name": "Python 3"
    },
    "language_info": {
      "name": "python"
    }
  },
  "cells": [
    {
      "cell_type": "markdown",
      "metadata": {
        "id": "view-in-github",
        "colab_type": "text"
      },
      "source": [
        "<a href=\"https://colab.research.google.com/github/siu1997/Big-Data-Analytics/blob/main/Practical%205/linear%2C_multilinear_and_Polynomial.ipynb\" target=\"_parent\"><img src=\"https://colab.research.google.com/assets/colab-badge.svg\" alt=\"Open In Colab\"/></a>"
      ]
    },
    {
      "cell_type": "markdown",
      "metadata": {
        "id": "p4_Qukn3_FN1"
      },
      "source": [
        "## **PRACTICAL 5**"
      ]
    },
    {
      "cell_type": "markdown",
      "metadata": {
        "id": "vJdC86sj_COh"
      },
      "source": [
        "### **AIM:**\n",
        "To implement Linear,Multiple and Polynomial Regression."
      ]
    },
    {
      "cell_type": "markdown",
      "metadata": {
        "id": "w1qB1vly_R5R"
      },
      "source": [
        "### **THEORY:**\n",
        "**Regression**\n",
        "Regression analysis is one of the most important fields in statistics and machine learning. There are many regression methods available. Linear regression is one of them.\n",
        "Linear regression is probably one of the most important and widely used regression techniques. It’s among the simplest regression methods. One of its main advantages is the ease of interpreting results.\n",
        "Multiple or multivariate linear regression is a case of linear regression with two or more independent variables."
      ]
    },
    {
      "cell_type": "markdown",
      "metadata": {
        "id": "WPBtCpMtiwjw"
      },
      "source": [
        "**Step 1: Import packages and classes**\n",
        "\n",
        "The first step is to import the package numpy and the class LinearRegression from sklearn.linear_model"
      ]
    },
    {
      "cell_type": "code",
      "metadata": {
        "id": "B05DJvpch47E"
      },
      "source": [
        "import numpy as np\n",
        "from sklearn.linear_model import LinearRegression"
      ],
      "execution_count": null,
      "outputs": []
    },
    {
      "cell_type": "markdown",
      "metadata": {
        "id": "sr11wOJVi1cp"
      },
      "source": [
        "**Step 2: Provide data**\n",
        "\n",
        "The second step is defining data to work with. The inputs (regressors, 𝑥) and output (predictor, 𝑦) should be arrays (the instances of the class numpy.ndarray) or similar objects. This is the simplest way of providing data for regression:\n",
        "\n"
      ]
    },
    {
      "cell_type": "code",
      "metadata": {
        "id": "PIsIXEiUijR5"
      },
      "source": [
        "x = np.array([5, 15, 25, 35, 45, 55]).reshape((-1, 1))\n",
        "y = np.array([5, 20, 14, 32, 22, 38])"
      ],
      "execution_count": null,
      "outputs": []
    },
    {
      "cell_type": "code",
      "metadata": {
        "colab": {
          "base_uri": "https://localhost:8080/"
        },
        "id": "7-dG5r0nimt-",
        "outputId": "31ba411c-b6ba-4580-e9f1-4fd7329486f1"
      },
      "source": [
        "print(x)\n",
        "print(y)"
      ],
      "execution_count": null,
      "outputs": [
        {
          "output_type": "stream",
          "text": [
            "[[ 5]\n",
            " [15]\n",
            " [25]\n",
            " [35]\n",
            " [45]\n",
            " [55]]\n",
            "[ 5 20 14 32 22 38]\n"
          ],
          "name": "stdout"
        }
      ]
    },
    {
      "cell_type": "markdown",
      "metadata": {
        "id": "7hLaMvq_i7GN"
      },
      "source": [
        "**Step 3: Create a model and fit it**\n",
        "\n",
        "The next step is to create a linear regression model and fit it using the existing data.\n",
        "\n",
        "Let’s create an instance of the class LinearRegression, which will represent the regression model:"
      ]
    },
    {
      "cell_type": "code",
      "metadata": {
        "colab": {
          "base_uri": "https://localhost:8080/"
        },
        "id": "dWDaBuSAjALC",
        "outputId": "db681ee7-4789-4d37-d6fd-009fa8e730ea"
      },
      "source": [
        "model = LinearRegression()\n",
        "model.fit(x, y)"
      ],
      "execution_count": null,
      "outputs": [
        {
          "output_type": "execute_result",
          "data": {
            "text/plain": [
              "LinearRegression(copy_X=True, fit_intercept=True, n_jobs=None, normalize=False)"
            ]
          },
          "metadata": {
            "tags": []
          },
          "execution_count": 4
        }
      ]
    },
    {
      "cell_type": "markdown",
      "metadata": {
        "id": "ka0S1pztjHu_"
      },
      "source": [
        "**Step 4: Get results**\n",
        "\n",
        "Once you have your model fitted, you can get the results to check whether the model works satisfactorily and interpret it.\n",
        "\n",
        "You can obtain the coefficient of determination (𝑅²) with .score() called on model:"
      ]
    },
    {
      "cell_type": "code",
      "metadata": {
        "colab": {
          "base_uri": "https://localhost:8080/"
        },
        "id": "DDmXn_8RjJw3",
        "outputId": "06f3fdf5-5ce6-43a2-fe80-7f88583cb3d7"
      },
      "source": [
        "r_sq = model.score(x, y)\n",
        "print('coefficient of determination:', r_sq)"
      ],
      "execution_count": null,
      "outputs": [
        {
          "output_type": "stream",
          "text": [
            "coefficient of determination: 0.7158756137479542\n"
          ],
          "name": "stdout"
        }
      ]
    },
    {
      "cell_type": "code",
      "metadata": {
        "colab": {
          "base_uri": "https://localhost:8080/"
        },
        "id": "CMmUonUJjU1M",
        "outputId": "2c92d3df-9c5c-4778-a0fe-1e521708ad00"
      },
      "source": [
        "print('intercept:', model.intercept_)\n",
        "print('slope:', model.coef_)"
      ],
      "execution_count": null,
      "outputs": [
        {
          "output_type": "stream",
          "text": [
            "intercept: 5.633333333333329\n",
            "slope: [0.54]\n"
          ],
          "name": "stdout"
        }
      ]
    },
    {
      "cell_type": "code",
      "metadata": {
        "colab": {
          "base_uri": "https://localhost:8080/"
        },
        "id": "af6VCDmejcN7",
        "outputId": "5b9ef260-fb98-4dc5-d58b-b80c9aac263d"
      },
      "source": [
        "new_model = LinearRegression().fit(x, y.reshape((-1, 1)))\n",
        "print('intercept:', new_model.intercept_)\n",
        "print('slope:', new_model.coef_)"
      ],
      "execution_count": null,
      "outputs": [
        {
          "output_type": "stream",
          "text": [
            "intercept: [5.63333333]\n",
            "slope: [[0.54]]\n"
          ],
          "name": "stdout"
        }
      ]
    },
    {
      "cell_type": "markdown",
      "metadata": {
        "id": "XA95FRHOjk3I"
      },
      "source": [
        "**Step 5: Predict response**\n",
        "\n",
        "Once there is a satisfactory model, you can use it for predictions with either existing or new data.\n",
        "\n",
        "To obtain the predicted response, use .predict():"
      ]
    },
    {
      "cell_type": "code",
      "metadata": {
        "colab": {
          "base_uri": "https://localhost:8080/"
        },
        "id": "YtXR_Re5jmzR",
        "outputId": "52287144-4c4a-46be-ef7f-5b34d5df21a6"
      },
      "source": [
        "y_pred = model.predict(x)\n",
        "print('predicted response:', y_pred, sep='\\n')"
      ],
      "execution_count": null,
      "outputs": [
        {
          "output_type": "stream",
          "text": [
            "predicted response:\n",
            "[ 8.33333333 13.73333333 19.13333333 24.53333333 29.93333333 35.33333333]\n"
          ],
          "name": "stdout"
        }
      ]
    },
    {
      "cell_type": "code",
      "metadata": {
        "colab": {
          "base_uri": "https://localhost:8080/"
        },
        "id": "FOqMqw2RjwIJ",
        "outputId": "8a2e6be5-ace0-4e8a-b7fe-2a5d11bda376"
      },
      "source": [
        "y_pred = model.intercept_ + model.coef_ * x\n",
        "print('predicted response:', y_pred, sep='\\n')"
      ],
      "execution_count": null,
      "outputs": [
        {
          "output_type": "stream",
          "text": [
            "predicted response:\n",
            "[[ 8.33333333]\n",
            " [13.73333333]\n",
            " [19.13333333]\n",
            " [24.53333333]\n",
            " [29.93333333]\n",
            " [35.33333333]]\n"
          ],
          "name": "stdout"
        }
      ]
    },
    {
      "cell_type": "code",
      "metadata": {
        "colab": {
          "base_uri": "https://localhost:8080/"
        },
        "id": "4DeVVQWjj0bg",
        "outputId": "a5c70b64-b0a8-4f0e-ca5e-140df1bdb0d1"
      },
      "source": [
        "x_new = np.arange(5).reshape((-1, 1))\n",
        "print(x_new)"
      ],
      "execution_count": null,
      "outputs": [
        {
          "output_type": "stream",
          "text": [
            "[[0]\n",
            " [1]\n",
            " [2]\n",
            " [3]\n",
            " [4]]\n"
          ],
          "name": "stdout"
        }
      ]
    },
    {
      "cell_type": "markdown",
      "metadata": {
        "id": "ojMNl9e1j47p"
      },
      "source": [
        "# Multiple Linear Regression With scikit-learn\n",
        "You can implement multiple linear regression following the same steps as you would for simple regression.\n",
        "\n",
        "**Steps 1 and 2: Import packages and classes, and provide data**\n",
        "\n",
        "First, you import numpy and sklearn.linear_model.LinearRegression and provide known inputs and output:"
      ]
    },
    {
      "cell_type": "code",
      "metadata": {
        "id": "k1Is4MaQj4gP"
      },
      "source": [
        "import numpy as np\n",
        "from sklearn.linear_model import LinearRegression"
      ],
      "execution_count": null,
      "outputs": []
    },
    {
      "cell_type": "code",
      "metadata": {
        "id": "4MTIyW84kAVE"
      },
      "source": [
        "x = [[0, 1], [5, 1], [15, 2], [25, 5], [35, 11], [45, 15], [55, 34], [60, 35]]\n",
        "y = [4, 5, 20, 14, 32, 22, 38, 43]\n",
        "x, y = np.array(x), np.array(y)"
      ],
      "execution_count": null,
      "outputs": []
    },
    {
      "cell_type": "markdown",
      "metadata": {
        "id": "ekTH2nsKkEQk"
      },
      "source": [
        "**Step 3: Create a model and fit it**\n",
        "\n",
        "The next step is to create the regression model as an instance of LinearRegression and fit it with .fit():"
      ]
    },
    {
      "cell_type": "code",
      "metadata": {
        "id": "8W6n2enGkIH3"
      },
      "source": [
        "model = LinearRegression().fit(x, y)\n"
      ],
      "execution_count": null,
      "outputs": []
    },
    {
      "cell_type": "markdown",
      "metadata": {
        "id": "FNHdyWKQkY-Q"
      },
      "source": [
        "**Step 4: Get results**\n",
        "\n",
        "You can obtain the properties of the model the same way as in the case of simple linear regression:"
      ]
    },
    {
      "cell_type": "code",
      "metadata": {
        "colab": {
          "base_uri": "https://localhost:8080/"
        },
        "id": "QtBM8v3MkdFO",
        "outputId": "8a135611-7217-45c8-8aba-6d3ce6e482f4"
      },
      "source": [
        "r_sq = model.score(x, y)\n",
        "print('coefficient of determination:', r_sq)\n",
        "print('intercept:', model.intercept_)\n",
        "print('slope:', model.coef_)"
      ],
      "execution_count": null,
      "outputs": [
        {
          "output_type": "stream",
          "text": [
            "coefficient of determination: 0.8615939258756776\n",
            "intercept: 5.52257927519819\n",
            "slope: [0.44706965 0.25502548]\n"
          ],
          "name": "stdout"
        }
      ]
    },
    {
      "cell_type": "markdown",
      "metadata": {
        "id": "RG2ZxbO_ko-4"
      },
      "source": [
        "**Step 5: Predict response**\n",
        "\n",
        "Predictions also work the same way as in the case of simple linear regression:"
      ]
    },
    {
      "cell_type": "code",
      "metadata": {
        "colab": {
          "base_uri": "https://localhost:8080/"
        },
        "id": "g-9NdbsMkvCa",
        "outputId": "48bf45cf-c4d6-4209-e115-07e2c79ecc73"
      },
      "source": [
        "y_pred = model.predict(x)\n",
        "print('predicted response:', y_pred, sep='\\n')"
      ],
      "execution_count": null,
      "outputs": [
        {
          "output_type": "stream",
          "text": [
            "predicted response:\n",
            "[ 5.77760476  8.012953   12.73867497 17.9744479  23.97529728 29.4660957\n",
            " 38.78227633 41.27265006]\n"
          ],
          "name": "stdout"
        }
      ]
    },
    {
      "cell_type": "code",
      "metadata": {
        "colab": {
          "base_uri": "https://localhost:8080/"
        },
        "id": "xwV_E2YPk0VI",
        "outputId": "f815084f-2ce6-462f-8cb1-fcc7cc2e1811"
      },
      "source": [
        "y_pred = model.intercept_ + np.sum(model.coef_ * x, axis=1)\n",
        "print('predicted response:', y_pred, sep='\\n')"
      ],
      "execution_count": null,
      "outputs": [
        {
          "output_type": "stream",
          "text": [
            "predicted response:\n",
            "[ 5.77760476  8.012953   12.73867497 17.9744479  23.97529728 29.4660957\n",
            " 38.78227633 41.27265006]\n"
          ],
          "name": "stdout"
        }
      ]
    },
    {
      "cell_type": "code",
      "metadata": {
        "colab": {
          "base_uri": "https://localhost:8080/"
        },
        "id": "QEzdHNJWk4Fm",
        "outputId": "2b008761-848e-4042-8ed9-7b343fc5950d"
      },
      "source": [
        "x_new = np.arange(10).reshape((-1, 2))\n",
        "print(x_new)\n",
        "y_new = model.predict(x_new)\n",
        "print(y_new)"
      ],
      "execution_count": null,
      "outputs": [
        {
          "output_type": "stream",
          "text": [
            "[[0 1]\n",
            " [2 3]\n",
            " [4 5]\n",
            " [6 7]\n",
            " [8 9]]\n",
            "[ 5.77760476  7.18179502  8.58598528  9.99017554 11.3943658 ]\n"
          ],
          "name": "stdout"
        }
      ]
    },
    {
      "cell_type": "markdown",
      "metadata": {
        "id": "-AO1GW-KlCef"
      },
      "source": [
        "# Polynomial Regression With scikit-learn\n",
        "Implementing polynomial regression with scikit-learn is very similar to linear regression. There is only one extra step: you need to transform the array of inputs to include non-linear terms such as 𝑥².\n",
        "\n",
        "**Step 1: Import packages and classes**\n",
        "\n",
        "In addition to numpy and sklearn.linear_model.LinearRegression, you should also import the class PolynomialFeatures from sklearn.preprocessing:"
      ]
    },
    {
      "cell_type": "code",
      "metadata": {
        "id": "k3Xpa-pTlCKV"
      },
      "source": [
        "import numpy as np\n",
        "from sklearn.linear_model import LinearRegression\n",
        "from sklearn.preprocessing import PolynomialFeatures"
      ],
      "execution_count": null,
      "outputs": []
    },
    {
      "cell_type": "markdown",
      "metadata": {
        "id": "Es5HjgJglNHN"
      },
      "source": [
        "**Step 2a: Provide data**\n",
        "\n",
        "This step defines the input and output and is the same as in the case of linear regression:"
      ]
    },
    {
      "cell_type": "code",
      "metadata": {
        "id": "488i4qzYlYdb"
      },
      "source": [
        "x=np.array([5, 15, 25, 35, 45, 55]).reshape((-1, 1))\n",
        "y = np.array([15, 11, 2, 8, 25, 32])"
      ],
      "execution_count": null,
      "outputs": []
    },
    {
      "cell_type": "markdown",
      "metadata": {
        "id": "bXqKRP4zleSb"
      },
      "source": [
        "**Step 2b: Transform input data**\n",
        "\n",
        "This is the new step you need to implement for polynomial regression!\n",
        "\n",
        "As you’ve seen earlier, you need to include 𝑥² (and perhaps other terms) as additional features when implementing polynomial regression. For that reason, you should transform the input array x to contain the additional column(s) with the values of 𝑥² (and eventually more features).\n",
        "\n",
        "It’s possible to transform the input array in several ways (like using insert() from numpy), but the class PolynomialFeatures is very convenient for this purpose. Let’s create an instance of this class:"
      ]
    },
    {
      "cell_type": "code",
      "metadata": {
        "colab": {
          "base_uri": "https://localhost:8080/"
        },
        "id": "bPOIE8iLlgb_",
        "outputId": "c723baf5-61e2-47b6-e579-04e6abcd904f"
      },
      "source": [
        "transformer = PolynomialFeatures(degree=2, include_bias=False)\n",
        "transformer.fit(x)\n",
        "x_ = transformer.transform(x)\n",
        "print(x_)"
      ],
      "execution_count": null,
      "outputs": [
        {
          "output_type": "stream",
          "text": [
            "[[   5.   25.]\n",
            " [  15.  225.]\n",
            " [  25.  625.]\n",
            " [  35. 1225.]\n",
            " [  45. 2025.]\n",
            " [  55. 3025.]]\n"
          ],
          "name": "stdout"
        }
      ]
    },
    {
      "cell_type": "markdown",
      "metadata": {
        "id": "P15ChqQglx5K"
      },
      "source": [
        "**Step 3: Create a model and fit it**\n",
        "\n",
        "This step is also the same as in the case of linear regression. You create and fit the model:\n",
        "\n"
      ]
    },
    {
      "cell_type": "code",
      "metadata": {
        "id": "XM9HNTugl_IR"
      },
      "source": [
        "model = LinearRegression().fit(x_, y)"
      ],
      "execution_count": null,
      "outputs": []
    },
    {
      "cell_type": "markdown",
      "metadata": {
        "id": "WGDsQUnJmEl7"
      },
      "source": [
        "**Step 4: Get results**\n",
        "\n",
        "You can obtain the properties of the model the same way as in the case of linear regression"
      ]
    },
    {
      "cell_type": "code",
      "metadata": {
        "colab": {
          "base_uri": "https://localhost:8080/"
        },
        "id": "H82uS0aQmLaC",
        "outputId": "5f16723d-1ebc-4156-8645-09372e961e04"
      },
      "source": [
        "r_sq = model.score(x_, y)\n",
        "print('coefficient of determination:', r_sq)\n",
        "print('intercept:', model.intercept_)\n",
        "print('coefficients:', model.coef_)"
      ],
      "execution_count": null,
      "outputs": [
        {
          "output_type": "stream",
          "text": [
            "coefficient of determination: 0.8908516262498564\n",
            "intercept: 21.372321428571436\n",
            "coefficients: [-1.32357143  0.02839286]\n"
          ],
          "name": "stdout"
        }
      ]
    },
    {
      "cell_type": "code",
      "metadata": {
        "colab": {
          "base_uri": "https://localhost:8080/"
        },
        "id": "ny_EsGFDmXif",
        "outputId": "b9ccbdab-446b-4944-9b4a-9a1a893fab91"
      },
      "source": [
        "x_ = PolynomialFeatures(degree=2, include_bias=True).fit_transform(x)\n",
        "print(x_)"
      ],
      "execution_count": null,
      "outputs": [
        {
          "output_type": "stream",
          "text": [
            "[[1.000e+00 5.000e+00 2.500e+01]\n",
            " [1.000e+00 1.500e+01 2.250e+02]\n",
            " [1.000e+00 2.500e+01 6.250e+02]\n",
            " [1.000e+00 3.500e+01 1.225e+03]\n",
            " [1.000e+00 4.500e+01 2.025e+03]\n",
            " [1.000e+00 5.500e+01 3.025e+03]]\n"
          ],
          "name": "stdout"
        }
      ]
    },
    {
      "cell_type": "code",
      "metadata": {
        "id": "rxhgaRexmgky"
      },
      "source": [
        "model = LinearRegression(fit_intercept=False).fit(x_, y)"
      ],
      "execution_count": null,
      "outputs": []
    },
    {
      "cell_type": "code",
      "metadata": {
        "colab": {
          "base_uri": "https://localhost:8080/"
        },
        "id": "YSGM1vC2mlbt",
        "outputId": "68e49285-08f6-485f-fb74-ca47aa02ca57"
      },
      "source": [
        "r_sq = model.score(x_, y)\n",
        "print('coefficient of determination:', r_sq)\n",
        "print('intercept:', model.intercept_)\n",
        "print('coefficients:', model.coef_)"
      ],
      "execution_count": null,
      "outputs": [
        {
          "output_type": "stream",
          "text": [
            "coefficient of determination: 0.8908516262498564\n",
            "intercept: 0.0\n",
            "coefficients: [21.37232143 -1.32357143  0.02839286]\n"
          ],
          "name": "stdout"
        }
      ]
    },
    {
      "cell_type": "markdown",
      "metadata": {
        "id": "wwMHKWc1m0bd"
      },
      "source": [
        "**Step 5: Predict response**\n",
        "\n",
        "If you want to get the predicted response, just use .predict(), but remember that the argument should be the modified input x_ instead of the old x"
      ]
    },
    {
      "cell_type": "code",
      "metadata": {
        "colab": {
          "base_uri": "https://localhost:8080/"
        },
        "id": "Ejr-5O0qm4zW",
        "outputId": "8c68c804-23a9-4617-fef0-95374f32c8a2"
      },
      "source": [
        "y_pred = model.predict(x_)\n",
        "print('predicted response:', y_pred, sep='\\n')"
      ],
      "execution_count": null,
      "outputs": [
        {
          "output_type": "stream",
          "text": [
            "predicted response:\n",
            "[15.46428571  7.90714286  6.02857143  9.82857143 19.30714286 34.46428571]\n"
          ],
          "name": "stdout"
        }
      ]
    },
    {
      "cell_type": "code",
      "metadata": {
        "id": "mXT1Na0zm-v-"
      },
      "source": [
        "# Step 1: Import packages\n",
        "import numpy as np\n",
        "from sklearn.linear_model import LinearRegression\n",
        "from sklearn.preprocessing import PolynomialFeatures\n",
        "\n",
        "# Step 2a: Provide data\n",
        "x = [[0, 1], [5, 1], [15, 2], [25, 5], [35, 11], [45, 15], [55, 34], [60, 35]]\n",
        "y = [4, 5, 20, 14, 32, 22, 38, 43]\n",
        "x, y = np.array(x), np.array(y)\n",
        "\n",
        "# Step 2b: Transform input data\n",
        "x_ = PolynomialFeatures(degree=2, include_bias=False).fit_transform(x)\n",
        "\n",
        "# Step 3: Create a model and fit it\n",
        "model = LinearRegression().fit(x_, y)\n",
        "\n",
        "# Step 4: Get results\n",
        "r_sq = model.score(x_, y)\n",
        "intercept, coefficients = model.intercept_, model.coef_\n",
        "\n",
        "# Step 5: Predict\n",
        "y_pred = model.predict(x_)"
      ],
      "execution_count": null,
      "outputs": []
    },
    {
      "cell_type": "code",
      "metadata": {
        "colab": {
          "base_uri": "https://localhost:8080/"
        },
        "id": "ctmU7YgTnEu-",
        "outputId": "80352de5-b522-45eb-e227-6bd9c8ee79bf"
      },
      "source": [
        "print('coefficient of determination:', r_sq)\n",
        "print('intercept:', intercept)\n",
        "\n",
        "print('coefficients:', coefficients, sep='\\n')\n",
        "print('predicted response:', y_pred, sep='\\n')"
      ],
      "execution_count": null,
      "outputs": [
        {
          "output_type": "stream",
          "text": [
            "coefficient of determination: 0.9453701449127822\n",
            "intercept: 0.843055645239577\n",
            "coefficients:\n",
            "[ 2.44828275  0.16160353 -0.15259677  0.47928683 -0.4641851 ]\n",
            "predicted response:\n",
            "[ 0.54047408 11.36340283 16.07809622 15.79139    29.73858619 23.50834636\n",
            " 39.05631386 41.92339046]\n"
          ],
          "name": "stdout"
        }
      ]
    },
    {
      "cell_type": "markdown",
      "metadata": {
        "id": "o-IP2Ym-tErq"
      },
      "source": [
        "# Advanced Linear Regression With statsmodels\n",
        "You can implement linear regression in Python relatively easily by using the package statsmodels as well. Typically, this is desirable when there is a need for more detailed results."
      ]
    },
    {
      "cell_type": "markdown",
      "metadata": {
        "id": "blhUEHzUtWja"
      },
      "source": [
        "**Step 1: Import packages**\n",
        "\n",
        "First you need to do some imports. In addition to numpy, you need to import statsmodels.api:\n",
        "\n"
      ]
    },
    {
      "cell_type": "code",
      "metadata": {
        "id": "k72gHNRntf9R",
        "colab": {
          "base_uri": "https://localhost:8080/"
        },
        "outputId": "4b3a48a6-f718-4d5b-af99-c0f1d664a144"
      },
      "source": [
        "import numpy as np\n",
        "import statsmodels.api as sm"
      ],
      "execution_count": null,
      "outputs": [
        {
          "output_type": "stream",
          "text": [
            "/usr/local/lib/python3.7/dist-packages/statsmodels/tools/_testing.py:19: FutureWarning: pandas.util.testing is deprecated. Use the functions in the public API at pandas.testing instead.\n",
            "  import pandas.util.testing as tm\n"
          ],
          "name": "stderr"
        }
      ]
    },
    {
      "cell_type": "markdown",
      "metadata": {
        "id": "In40-7Txtj-q"
      },
      "source": [
        "**Step 2: Provide data and transform inputs**\n",
        "\n",
        "You can provide the inputs and outputs the same way as you did when you were using scikit-learn:"
      ]
    },
    {
      "cell_type": "code",
      "metadata": {
        "id": "Ee-RlNOutn-q"
      },
      "source": [
        "x = [[0, 1], [5, 1], [15, 2], [25, 5], [35, 11], [45, 15], [55, 34], [60, 35]]\n",
        "y = [4, 5, 20, 14, 32, 22, 38, 43]\n",
        "x, y = np.array(x), np.array(y)"
      ],
      "execution_count": null,
      "outputs": []
    },
    {
      "cell_type": "code",
      "metadata": {
        "colab": {
          "base_uri": "https://localhost:8080/"
        },
        "id": "qKCWg-8GvOrv",
        "outputId": "b3215c3c-9708-4d04-8476-dc615342367b"
      },
      "source": [
        "x = sm.add_constant(x)\n",
        "print(x)"
      ],
      "execution_count": null,
      "outputs": [
        {
          "output_type": "stream",
          "text": [
            "[[ 1.  0.  1.]\n",
            " [ 1.  5.  1.]\n",
            " [ 1. 15.  2.]\n",
            " [ 1. 25.  5.]\n",
            " [ 1. 35. 11.]\n",
            " [ 1. 45. 15.]\n",
            " [ 1. 55. 34.]\n",
            " [ 1. 60. 35.]]\n"
          ],
          "name": "stdout"
        }
      ]
    },
    {
      "cell_type": "markdown",
      "metadata": {
        "id": "zCo9vhlIvTwI"
      },
      "source": [
        "**Step 3: Create a model and fit it**\n",
        "\n",
        "The regression model based on ordinary least squares is an instance of the class statsmodels.regression.linear_model.OLS. This is how you can obtain one:\n",
        "\n"
      ]
    },
    {
      "cell_type": "code",
      "metadata": {
        "id": "dzneT1sCvZe-"
      },
      "source": [
        "model = sm.OLS(y, x)\n",
        "results1 = model.fit()"
      ],
      "execution_count": null,
      "outputs": []
    },
    {
      "cell_type": "markdown",
      "metadata": {
        "id": "9Bhl85qOvh3j"
      },
      "source": [
        "**Step 4: Get results**\n",
        "\n",
        "The variable results refers to the object that contains detailed information about the results of linear regression. Explaining them is far beyond the scope of this article, but you’ll learn here how to extract them.\n",
        "\n",
        "You can call .summary() to get the table with the results of linear regression:"
      ]
    },
    {
      "cell_type": "code",
      "metadata": {
        "colab": {
          "base_uri": "https://localhost:8080/"
        },
        "id": "gmrVrDUIvksz",
        "outputId": "e5b921cc-9b23-4806-9155-61f1dbb54018"
      },
      "source": [
        "print(results1.summary())"
      ],
      "execution_count": null,
      "outputs": [
        {
          "output_type": "stream",
          "text": [
            "                            OLS Regression Results                            \n",
            "==============================================================================\n",
            "Dep. Variable:                      y   R-squared:                       0.862\n",
            "Model:                            OLS   Adj. R-squared:                  0.806\n",
            "Method:                 Least Squares   F-statistic:                     15.56\n",
            "Date:                Sat, 24 Jul 2021   Prob (F-statistic):            0.00713\n",
            "Time:                        05:32:00   Log-Likelihood:                -24.316\n",
            "No. Observations:                   8   AIC:                             54.63\n",
            "Df Residuals:                       5   BIC:                             54.87\n",
            "Df Model:                           2                                         \n",
            "Covariance Type:            nonrobust                                         \n",
            "==============================================================================\n",
            "                 coef    std err          t      P>|t|      [0.025      0.975]\n",
            "------------------------------------------------------------------------------\n",
            "const          5.5226      4.431      1.246      0.268      -5.867      16.912\n",
            "x1             0.4471      0.285      1.567      0.178      -0.286       1.180\n",
            "x2             0.2550      0.453      0.563      0.598      -0.910       1.420\n",
            "==============================================================================\n",
            "Omnibus:                        0.561   Durbin-Watson:                   3.268\n",
            "Prob(Omnibus):                  0.755   Jarque-Bera (JB):                0.534\n",
            "Skew:                           0.380   Prob(JB):                        0.766\n",
            "Kurtosis:                       1.987   Cond. No.                         80.1\n",
            "==============================================================================\n",
            "\n",
            "Warnings:\n",
            "[1] Standard Errors assume that the covariance matrix of the errors is correctly specified.\n"
          ],
          "name": "stdout"
        },
        {
          "output_type": "stream",
          "text": [
            "/usr/local/lib/python3.7/dist-packages/scipy/stats/stats.py:1535: UserWarning: kurtosistest only valid for n>=20 ... continuing anyway, n=8\n",
            "  \"anyway, n=%i\" % int(n))\n"
          ],
          "name": "stderr"
        }
      ]
    },
    {
      "cell_type": "code",
      "metadata": {
        "colab": {
          "base_uri": "https://localhost:8080/"
        },
        "id": "-crrIZbYvs5D",
        "outputId": "3960fd9f-7275-4112-ff89-d691a8267f01"
      },
      "source": [
        "print('coefficient of determination:', results1.rsquared)\n",
        "print('adjusted coefficient of determination:', results1.rsquared_adj)\n",
        "print('regression coefficients:', results1.params)"
      ],
      "execution_count": null,
      "outputs": [
        {
          "output_type": "stream",
          "text": [
            "coefficient of determination: 0.8615939258756776\n",
            "adjusted coefficient of determination: 0.8062314962259487\n",
            "regression coefficients: [5.52257928 0.44706965 0.25502548]\n"
          ],
          "name": "stdout"
        }
      ]
    },
    {
      "cell_type": "markdown",
      "metadata": {
        "id": "fWfGJ9Hkv2Ji"
      },
      "source": [
        "**Step 5: Predict response**\n",
        "\n",
        "You can obtain the predicted response on the input values used for creating the model using .fittedvalues or .predict() with the input array as the argument:"
      ]
    },
    {
      "cell_type": "code",
      "metadata": {
        "colab": {
          "base_uri": "https://localhost:8080/"
        },
        "id": "W_X3Y7APv7bI",
        "outputId": "751dafed-5b1e-40bb-d8e2-fd4327794f96"
      },
      "source": [
        "print('predicted response:', results1.fittedvalues, sep='\\n')\n",
        "print('predicted response:', results1.predict(x), sep='\\n')"
      ],
      "execution_count": null,
      "outputs": [
        {
          "output_type": "stream",
          "text": [
            "predicted response:\n",
            "[ 5.77760476  8.012953   12.73867497 17.9744479  23.97529728 29.4660957\n",
            " 38.78227633 41.27265006]\n",
            "predicted response:\n",
            "[ 5.77760476  8.012953   12.73867497 17.9744479  23.97529728 29.4660957\n",
            " 38.78227633 41.27265006]\n"
          ],
          "name": "stdout"
        }
      ]
    }
  ]
}