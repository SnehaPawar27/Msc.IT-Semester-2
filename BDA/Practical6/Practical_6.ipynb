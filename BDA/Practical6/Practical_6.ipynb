{
  "nbformat": 4,
  "nbformat_minor": 0,
  "metadata": {
    "colab": {
      "name": "Copy of Practical 6.ipynb",
      "provenance": [],
      "authorship_tag": "ABX9TyMTPjMBRrhxZ9bGlVmi9Db2",
      "include_colab_link": true
    },
    "kernelspec": {
      "name": "python3",
      "display_name": "Python 3"
    },
    "language_info": {
      "name": "python"
    }
  },
  "cells": [
    {
      "cell_type": "markdown",
      "metadata": {
        "id": "view-in-github",
        "colab_type": "text"
      },
      "source": [
        "<a href=\"https://colab.research.google.com/github/siu1997/Big-Data-Analytics/blob/main/Practical%206/Practical_6.ipynb\" target=\"_parent\"><img src=\"https://colab.research.google.com/assets/colab-badge.svg\" alt=\"Open In Colab\"/></a>"
      ]
    },
    {
      "cell_type": "markdown",
      "metadata": {
        "id": "SmHyPZ6xCDXl"
      },
      "source": [
        "#Practical no 6\n",
        "#Classification\n",
        "#Support Vector Machine "
      ]
    },
    {
      "cell_type": "markdown",
      "metadata": {
        "id": "Bx_Eze9OCUA5"
      },
      "source": [
        "Support Vector Machine or SVM is a supervised and linear Machine Learning algorithm most commonly used for solving classification problems and is also referred to as Support Vector Classification. \n",
        "\n",
        "SVM also supports the kernel method also called the kernel SVM which allows us to tackle non-linearity.\n",
        "\n"
      ]
    },
    {
      "cell_type": "markdown",
      "metadata": {
        "id": "VjSnDOVeC8rb"
      },
      "source": [
        "Importing the necessary libraries"
      ]
    },
    {
      "cell_type": "code",
      "metadata": {
        "colab": {
          "base_uri": "https://localhost:8080/"
        },
        "id": "9SHzCCUABzkP",
        "outputId": "0fd74edd-f034-4bc5-8c34-2ed1c14baec9"
      },
      "source": [
        "from google.colab import drive\n",
        "drive.mount('/content/drive')"
      ],
      "execution_count": null,
      "outputs": [
        {
          "output_type": "stream",
          "text": [
            "Mounted at /content/drive\n"
          ],
          "name": "stdout"
        }
      ]
    },
    {
      "cell_type": "code",
      "metadata": {
        "id": "I_0S3UPUDJp_"
      },
      "source": [
        "Location=\"drive/My Drive/Dataset\""
      ],
      "execution_count": null,
      "outputs": []
    },
    {
      "cell_type": "code",
      "metadata": {
        "id": "niTbOdsRDj2M"
      },
      "source": [
        "import pandas as pd"
      ],
      "execution_count": null,
      "outputs": []
    },
    {
      "cell_type": "code",
      "metadata": {
        "id": "BAkxaMGqDov2"
      },
      "source": [
        "df=pd.read_csv(Location+ \"/apples_and_oranges.csv\")"
      ],
      "execution_count": null,
      "outputs": []
    },
    {
      "cell_type": "code",
      "metadata": {
        "colab": {
          "base_uri": "https://localhost:8080/",
          "height": 203
        },
        "id": "uZes7kRBEtIA",
        "outputId": "2c58a70c-49f4-4fee-f25e-fabd07f5578c"
      },
      "source": [
        "df.head()"
      ],
      "execution_count": null,
      "outputs": [
        {
          "output_type": "execute_result",
          "data": {
            "text/html": [
              "<div>\n",
              "<style scoped>\n",
              "    .dataframe tbody tr th:only-of-type {\n",
              "        vertical-align: middle;\n",
              "    }\n",
              "\n",
              "    .dataframe tbody tr th {\n",
              "        vertical-align: top;\n",
              "    }\n",
              "\n",
              "    .dataframe thead th {\n",
              "        text-align: right;\n",
              "    }\n",
              "</style>\n",
              "<table border=\"1\" class=\"dataframe\">\n",
              "  <thead>\n",
              "    <tr style=\"text-align: right;\">\n",
              "      <th></th>\n",
              "      <th>Weight</th>\n",
              "      <th>Size</th>\n",
              "      <th>Class</th>\n",
              "    </tr>\n",
              "  </thead>\n",
              "  <tbody>\n",
              "    <tr>\n",
              "      <th>0</th>\n",
              "      <td>69</td>\n",
              "      <td>4.39</td>\n",
              "      <td>orange</td>\n",
              "    </tr>\n",
              "    <tr>\n",
              "      <th>1</th>\n",
              "      <td>69</td>\n",
              "      <td>4.21</td>\n",
              "      <td>orange</td>\n",
              "    </tr>\n",
              "    <tr>\n",
              "      <th>2</th>\n",
              "      <td>65</td>\n",
              "      <td>4.09</td>\n",
              "      <td>orange</td>\n",
              "    </tr>\n",
              "    <tr>\n",
              "      <th>3</th>\n",
              "      <td>72</td>\n",
              "      <td>5.85</td>\n",
              "      <td>apple</td>\n",
              "    </tr>\n",
              "    <tr>\n",
              "      <th>4</th>\n",
              "      <td>67</td>\n",
              "      <td>4.70</td>\n",
              "      <td>orange</td>\n",
              "    </tr>\n",
              "  </tbody>\n",
              "</table>\n",
              "</div>"
            ],
            "text/plain": [
              "   Weight  Size   Class\n",
              "0      69  4.39  orange\n",
              "1      69  4.21  orange\n",
              "2      65  4.09  orange\n",
              "3      72  5.85   apple\n",
              "4      67  4.70  orange"
            ]
          },
          "metadata": {
            "tags": []
          },
          "execution_count": 28
        }
      ]
    },
    {
      "cell_type": "markdown",
      "metadata": {
        "id": "u0PPxJfqHgVv"
      },
      "source": [
        "Extracting Independent and dependent Variable"
      ]
    },
    {
      "cell_type": "code",
      "metadata": {
        "id": "RULZVKl2Hio9"
      },
      "source": [
        "x= df.iloc[:, [0, 1]].values  \n",
        "y= df.iloc[:, 2].values  "
      ],
      "execution_count": null,
      "outputs": []
    },
    {
      "cell_type": "code",
      "metadata": {
        "colab": {
          "base_uri": "https://localhost:8080/"
        },
        "id": "KPRswjl7IUAU",
        "outputId": "f71d3bea-703e-4872-8381-f1726f98af7d"
      },
      "source": [
        "x, y"
      ],
      "execution_count": null,
      "outputs": [
        {
          "output_type": "execute_result",
          "data": {
            "text/plain": [
              "(array([[69.  ,  4.39],\n",
              "        [69.  ,  4.21],\n",
              "        [65.  ,  4.09],\n",
              "        [72.  ,  5.85],\n",
              "        [67.  ,  4.7 ],\n",
              "        [73.  ,  5.68],\n",
              "        [70.  ,  5.56],\n",
              "        [75.  ,  5.11],\n",
              "        [74.  ,  5.36],\n",
              "        [65.  ,  4.27],\n",
              "        [73.  ,  5.79],\n",
              "        [70.  ,  5.47],\n",
              "        [74.  ,  5.53],\n",
              "        [68.  ,  4.47],\n",
              "        [74.  ,  5.22],\n",
              "        [65.  ,  4.48],\n",
              "        [69.  ,  4.66],\n",
              "        [75.  ,  5.25],\n",
              "        [67.  ,  4.18],\n",
              "        [74.  ,  5.5 ],\n",
              "        [66.  ,  4.13],\n",
              "        [70.  ,  4.83],\n",
              "        [69.  ,  4.61],\n",
              "        [68.  ,  4.08],\n",
              "        [67.  ,  4.25],\n",
              "        [71.  ,  5.35],\n",
              "        [67.  ,  4.01],\n",
              "        [70.  ,  4.22],\n",
              "        [74.  ,  5.25],\n",
              "        [71.  ,  5.26],\n",
              "        [73.  ,  5.78],\n",
              "        [66.  ,  4.68],\n",
              "        [72.  ,  5.72],\n",
              "        [73.  ,  5.17],\n",
              "        [68.  ,  4.83],\n",
              "        [69.  ,  4.11],\n",
              "        [69.  ,  4.76],\n",
              "        [74.  ,  5.48],\n",
              "        [70.  ,  5.59],\n",
              "        [73.  ,  5.03]]),\n",
              " array(['orange', 'orange', 'orange', 'apple', 'orange', 'apple', 'apple',\n",
              "        'apple', 'apple', 'orange', 'apple', 'apple', 'apple', 'orange',\n",
              "        'apple', 'orange', 'orange', 'apple', 'orange', 'apple', 'orange',\n",
              "        'orange', 'orange', 'orange', 'orange', 'apple', 'orange',\n",
              "        'orange', 'apple', 'apple', 'apple', 'orange', 'apple', 'apple',\n",
              "        'orange', 'orange', 'orange', 'apple', 'apple', 'apple'],\n",
              "       dtype=object))"
            ]
          },
          "metadata": {
            "tags": []
          },
          "execution_count": 33
        }
      ]
    },
    {
      "cell_type": "markdown",
      "metadata": {
        "id": "Aq02esVcE03D"
      },
      "source": [
        "splitting the dataset into train and test set"
      ]
    },
    {
      "cell_type": "code",
      "metadata": {
        "id": "t8Mf25woEuhc"
      },
      "source": [
        "from sklearn.model_selection import train_test_split  \n",
        "x_train, x_test, y_train, y_test= train_test_split(x, y, test_size= 0.25, random_state=0)  "
      ],
      "execution_count": null,
      "outputs": []
    },
    {
      "cell_type": "markdown",
      "metadata": {
        "id": "5EkAZA0lFIc4"
      },
      "source": [
        "Feature scaling"
      ]
    },
    {
      "cell_type": "code",
      "metadata": {
        "id": "Cdp0fWnwI6vz"
      },
      "source": [
        "from sklearn.preprocessing import StandardScaler    \n",
        "st_x= StandardScaler()    \n",
        "x_train= st_x.fit_transform(x_train)    \n",
        "x_test= st_x.transform(x_test)   "
      ],
      "execution_count": null,
      "outputs": []
    },
    {
      "cell_type": "markdown",
      "metadata": {
        "id": "pne80aQiJFqp"
      },
      "source": [
        "Fitting the SVM classifier to the training set:"
      ]
    },
    {
      "cell_type": "code",
      "metadata": {
        "colab": {
          "base_uri": "https://localhost:8080/"
        },
        "id": "M0-cm7gFJMtL",
        "outputId": "a0d96bd9-dd68-4bda-9d23-969f5ea8949c"
      },
      "source": [
        "from sklearn.svm import SVC # \"Support vector classifier\"  \n",
        "classifier = SVC(kernel='linear', random_state=0)  \n",
        "classifier.fit(x_train, y_train) "
      ],
      "execution_count": null,
      "outputs": [
        {
          "output_type": "execute_result",
          "data": {
            "text/plain": [
              "SVC(C=1.0, break_ties=False, cache_size=200, class_weight=None, coef0=0.0,\n",
              "    decision_function_shape='ovr', degree=3, gamma='scale', kernel='linear',\n",
              "    max_iter=-1, probability=False, random_state=0, shrinking=True, tol=0.001,\n",
              "    verbose=False)"
            ]
          },
          "metadata": {
            "tags": []
          },
          "execution_count": 36
        }
      ]
    },
    {
      "cell_type": "markdown",
      "metadata": {
        "id": "oY2JBZFIJl68"
      },
      "source": [
        "Predicting the test set result:"
      ]
    },
    {
      "cell_type": "code",
      "metadata": {
        "id": "UH72oyDjJnh4"
      },
      "source": [
        "y_pred= classifier.predict(x_test) "
      ],
      "execution_count": null,
      "outputs": []
    },
    {
      "cell_type": "code",
      "metadata": {
        "colab": {
          "base_uri": "https://localhost:8080/"
        },
        "id": "X0QYOIDJJqkO",
        "outputId": "0d1cd05b-8469-4bf8-f87e-631b24e21f77"
      },
      "source": [
        "y_pred"
      ],
      "execution_count": null,
      "outputs": [
        {
          "output_type": "execute_result",
          "data": {
            "text/plain": [
              "array(['orange', 'orange', 'apple', 'orange', 'apple', 'orange', 'apple',\n",
              "       'apple', 'orange', 'apple'], dtype=object)"
            ]
          },
          "metadata": {
            "tags": []
          },
          "execution_count": 38
        }
      ]
    },
    {
      "cell_type": "code",
      "metadata": {
        "id": "0b0LtnldJv8x"
      },
      "source": [
        "#Creating the Confusion matrix  \n",
        "from sklearn.metrics import confusion_matrix  \n",
        "cm= confusion_matrix(y_test, y_pred) "
      ],
      "execution_count": null,
      "outputs": []
    },
    {
      "cell_type": "code",
      "metadata": {
        "colab": {
          "base_uri": "https://localhost:8080/"
        },
        "id": "QMEnCtmNJ0JP",
        "outputId": "c3e768f4-1fc2-425b-b8e9-80e54c928822"
      },
      "source": [
        "cm"
      ],
      "execution_count": null,
      "outputs": [
        {
          "output_type": "execute_result",
          "data": {
            "text/plain": [
              "array([[5, 0],\n",
              "       [0, 5]])"
            ]
          },
          "metadata": {
            "tags": []
          },
          "execution_count": 40
        }
      ]
    },
    {
      "cell_type": "markdown",
      "metadata": {
        "id": "h6b_48joKUbt"
      },
      "source": [
        "#Decision Tree\n",
        "\n",
        "Decision Tree is a Supervised learning technique that can be used for both classification and Regression problems, but mostly it is preferred for solving Classification problems. It is a tree-structured classifier, where internal nodes represent the features of a dataset, branches represent the decision rules and each leaf node represents the outcome.\n",
        "\n",
        "It is a graphical representation for getting all the possible solutions to a problem/decision based on given conditions.\n",
        "It is called a decision tree because, similar to a tree, it starts with the root node, which expands on further branches and constructs a tree-like structure."
      ]
    },
    {
      "cell_type": "markdown",
      "metadata": {
        "id": "85jYra0_LO97"
      },
      "source": [
        "Decision Tree Terminologies\n",
        "\n",
        "Root Node: Root node is from where the decision tree starts. It represents the entire dataset, which further gets divided into two or more homogeneous sets.\n",
        "Leaf Node: Leaf nodes are the final output node, and the tree cannot be segregated further after getting a leaf node.\n",
        "Splitting: Splitting is the process of dividing the decision node/root node into sub-nodes according to the given conditions.\n",
        "Branch/Sub Tree: A tree formed by splitting the tree.\n",
        "Pruning: Pruning is the process of removing the unwanted branches from the tree.\n",
        "Parent/Child node: The root node of the tree is called the parent node, and other nodes are called the child nodes."
      ]
    },
    {
      "cell_type": "code",
      "metadata": {
        "id": "VHJugB6pKWgY"
      },
      "source": [
        "# importing libraries  \n",
        "import numpy as nm  \n",
        "import matplotlib.pyplot as plt  \n",
        "import pandas as pd  "
      ],
      "execution_count": null,
      "outputs": []
    },
    {
      "cell_type": "code",
      "metadata": {
        "id": "cfk6CM6QL2Pp"
      },
      "source": [
        "df1=pd.read_csv(Location+ \"/apples_and_oranges.csv\")"
      ],
      "execution_count": null,
      "outputs": []
    },
    {
      "cell_type": "code",
      "metadata": {
        "id": "JcC2NW3jL5Be"
      },
      "source": [
        "x= df.iloc[:, [0, 1]].values  \n",
        "y= df.iloc[:, 2].values  "
      ],
      "execution_count": null,
      "outputs": []
    },
    {
      "cell_type": "code",
      "metadata": {
        "id": "YpPIMACTMB1G"
      },
      "source": [
        "from sklearn.model_selection import train_test_split  \n",
        "x_train, x_test, y_train, y_test= train_test_split(x, y, test_size= 0.25, random_state=0)  "
      ],
      "execution_count": null,
      "outputs": []
    },
    {
      "cell_type": "code",
      "metadata": {
        "id": "Gd0PQnUhMJHb"
      },
      "source": [
        "from sklearn.preprocessing import StandardScaler    \n",
        "st_x= StandardScaler()    \n",
        "x_train= st_x.fit_transform(x_train)    \n",
        "x_test= st_x.transform(x_test)   "
      ],
      "execution_count": null,
      "outputs": []
    },
    {
      "cell_type": "code",
      "metadata": {
        "colab": {
          "base_uri": "https://localhost:8080/"
        },
        "id": "IV0Fl5VCMS4B",
        "outputId": "6ac43647-b5f5-4bea-f982-f6335860cafb"
      },
      "source": [
        "#Fitting Decision Tree classifier to the training set  \n",
        "from sklearn.tree import DecisionTreeClassifier  \n",
        "classifier= DecisionTreeClassifier(criterion='entropy', random_state=0)  \n",
        "classifier.fit(x_train, y_train)"
      ],
      "execution_count": null,
      "outputs": [
        {
          "output_type": "execute_result",
          "data": {
            "text/plain": [
              "DecisionTreeClassifier(ccp_alpha=0.0, class_weight=None, criterion='entropy',\n",
              "                       max_depth=None, max_features=None, max_leaf_nodes=None,\n",
              "                       min_impurity_decrease=0.0, min_impurity_split=None,\n",
              "                       min_samples_leaf=1, min_samples_split=2,\n",
              "                       min_weight_fraction_leaf=0.0, presort='deprecated',\n",
              "                       random_state=0, splitter='best')"
            ]
          },
          "metadata": {
            "tags": []
          },
          "execution_count": 49
        }
      ]
    },
    {
      "cell_type": "markdown",
      "metadata": {
        "id": "piGtmKtnMktL"
      },
      "source": [
        "Predicting the test result"
      ]
    },
    {
      "cell_type": "code",
      "metadata": {
        "id": "qKnVGxRtMaX7"
      },
      "source": [
        "y_pred= classifier.predict(x_test)  "
      ],
      "execution_count": null,
      "outputs": []
    },
    {
      "cell_type": "code",
      "metadata": {
        "id": "ndcHKnUXMrAf"
      },
      "source": [
        "from sklearn.metrics import confusion_matrix  \n",
        "cm= confusion_matrix(y_test, y_pred)  "
      ],
      "execution_count": null,
      "outputs": []
    },
    {
      "cell_type": "code",
      "metadata": {
        "colab": {
          "base_uri": "https://localhost:8080/"
        },
        "id": "xElyrvTcMw9S",
        "outputId": "1dbc25d8-1d2b-4293-e81f-ee0d0073baca"
      },
      "source": [
        "print(cm)"
      ],
      "execution_count": null,
      "outputs": [
        {
          "output_type": "stream",
          "text": [
            "[[5 0]\n",
            " [0 5]]\n"
          ],
          "name": "stdout"
        }
      ]
    }
  ]
}