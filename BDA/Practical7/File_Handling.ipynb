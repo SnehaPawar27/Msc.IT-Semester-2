{
  "nbformat": 4,
  "nbformat_minor": 0,
  "metadata": {
    "colab": {
      "name": "File_Handling.ipynb",
      "provenance": [],
      "collapsed_sections": [],
      "authorship_tag": "ABX9TyMd4dtgshxucHQgFnDXyHfP",
      "include_colab_link": true
    },
    "kernelspec": {
      "name": "python3",
      "display_name": "Python 3"
    },
    "language_info": {
      "name": "python"
    }
  },
  "cells": [
    {
      "cell_type": "markdown",
      "metadata": {
        "id": "view-in-github",
        "colab_type": "text"
      },
      "source": [
        "<a href=\"https://colab.research.google.com/github/siu1997/Big-Data-Analytics/blob/main/File_Handling.ipynb\" target=\"_parent\"><img src=\"https://colab.research.google.com/assets/colab-badge.svg\" alt=\"Open In Colab\"/></a>"
      ]
    },
    {
      "cell_type": "markdown",
      "metadata": {
        "id": "sVQ6LJF-5gDi"
      },
      "source": [
        "#Practical 1\n",
        "#File Handling and Functional Programming\n",
        "\n",
        "\n",
        "#Theory\n",
        "File handling is an important part of any web application. Python has several functions for creating, reading, updating, and deleting files. The key function for working with files in Python is the open() function.\n",
        "\n"
      ]
    },
    {
      "cell_type": "markdown",
      "metadata": {
        "id": "_AjYlzWuXMIG"
      },
      "source": [
        "The open() function takes two parameters; filename, and mode.\n",
        "\n",
        "There are four different methods (modes) for opening a file:\n",
        "\n",
        "\"r\" - Read - Default value. Opens a file for reading, error if the file does not exist\n",
        "\n",
        "\"a\" - Append - Opens a file for appending, creates the file if it does not exist\n",
        "\n",
        "\"w\" - Write - Opens a file for writing, creates the file if it does not exist\n",
        "\n",
        "\"x\" - Create - Creates the specified file, returns an error if the file exists"
      ]
    },
    {
      "cell_type": "markdown",
      "metadata": {
        "id": "YN_hStR3XYFo"
      },
      "source": [
        "File Handling"
      ]
    },
    {
      "cell_type": "code",
      "metadata": {
        "id": "Ib-seVvU5pvT"
      },
      "source": [
        "#create a file in sample data and write line to file\n",
        "with open('/content/sample_data/Ex1.tex', 'w') as writefile:\n",
        "  writefile.write(\"This is my first line.\")"
      ],
      "execution_count": 1,
      "outputs": []
    },
    {
      "cell_type": "code",
      "metadata": {
        "colab": {
          "base_uri": "https://localhost:8080/"
        },
        "id": "1eP4oyHD6PDG",
        "outputId": "527dc42a-a857-470a-8d5b-840b001c6356"
      },
      "source": [
        "#read the file and display the content of file\n",
        "with open('/content/sample_data/Ex1.tex', 'r') as writefile:\n",
        "  print(writefile.read())"
      ],
      "execution_count": 2,
      "outputs": [
        {
          "output_type": "stream",
          "text": [
            "This is my first line.\n"
          ],
          "name": "stdout"
        }
      ]
    },
    {
      "cell_type": "code",
      "metadata": {
        "id": "y_J2KEYe7Rge"
      },
      "source": [
        "#append text into file\n",
        "with open('/content/sample_data/Ex1.tex', 'a') as writefile:\n",
        "  writefile.write('\\n This is second line\\n')\n",
        "  writefile.write('this is third line.')"
      ],
      "execution_count": 3,
      "outputs": []
    },
    {
      "cell_type": "markdown",
      "metadata": {
        "id": "8RF2xEFji9Bf"
      },
      "source": [
        "store text into a variable"
      ]
    },
    {
      "cell_type": "code",
      "metadata": {
        "id": "uYCTruYY8Tae"
      },
      "source": [
        "Text1 = \"Apache Hadoop is a collection of open-source software utilities that facilitates using a network of many computers to solve problems involving massive amounts of data and computation. It provides a software framework for distributed storage and processing of big data using the MapReduce programming model. Wikipedia\""
      ],
      "execution_count": 4,
      "outputs": []
    },
    {
      "cell_type": "code",
      "metadata": {
        "id": "653PGFtX8L7m"
      },
      "source": [
        "with open('/content/sample_data/Ex1.txt', 'a') as writefile:\n",
        "    writefile.write(Text1)"
      ],
      "execution_count": 5,
      "outputs": []
    },
    {
      "cell_type": "code",
      "metadata": {
        "id": "8nn_3c23jljJ"
      },
      "source": [
        "#copy the content of one file to another file\n",
        "with open('/content/sample_data/Ex1.txt', 'r') as readfile:\n",
        "  with open('/content/sample_data/Ex2.txt', 'w') as writefile:\n",
        "    for line in readfile:\n",
        "      writefile.write(line)"
      ],
      "execution_count": 6,
      "outputs": []
    },
    {
      "cell_type": "markdown",
      "metadata": {
        "id": "hJ5I09DtkkUX"
      },
      "source": [
        "# Functional Programming"
      ]
    },
    {
      "cell_type": "code",
      "metadata": {
        "colab": {
          "base_uri": "https://localhost:8080/"
        },
        "id": "7NJvdTj_kM0d",
        "outputId": "e3c2fc9c-917f-438f-9057-785510c59bd5"
      },
      "source": [
        "#create function in python to calculate the square of a number\n",
        "def sqNo(x):\n",
        "  return x*x\n",
        "#call the function\n",
        "x=5\n",
        "sqNo(x)"
      ],
      "execution_count": 7,
      "outputs": [
        {
          "output_type": "execute_result",
          "data": {
            "text/plain": [
              "25"
            ]
          },
          "metadata": {
            "tags": []
          },
          "execution_count": 7
        }
      ]
    },
    {
      "cell_type": "code",
      "metadata": {
        "colab": {
          "base_uri": "https://localhost:8080/"
        },
        "id": "kdjxKWdik7lp",
        "outputId": "044713f2-9641-4859-f909-f48cbf653177"
      },
      "source": [
        "#create a list and append the value into existing list\n",
        "l1=[1,2,3,4,5,6]\n",
        "l2=[11,12,13,14,15,16]\n",
        "for i in l2:\n",
        "  l1.append(i)\n",
        "l1"
      ],
      "execution_count": 8,
      "outputs": [
        {
          "output_type": "execute_result",
          "data": {
            "text/plain": [
              "[1, 2, 3, 4, 5, 6, 11, 12, 13, 14, 15, 16]"
            ]
          },
          "metadata": {
            "tags": []
          },
          "execution_count": 8
        }
      ]
    },
    {
      "cell_type": "code",
      "metadata": {
        "colab": {
          "base_uri": "https://localhost:8080/"
        },
        "id": "AA09N_0vlgGW",
        "outputId": "f0a1b00e-e049-4c8f-bca2-8750c543c779"
      },
      "source": [
        "#Pass list data to the function and return the list\n",
        "#Ca;lculate the square of each element of list\n",
        "def mydb1(data):\n",
        "  result=[]\n",
        "  for i in data:\n",
        "    result.append(i*i)\n",
        "  return result\n",
        "#call the function\n",
        "mydb1([11, 12, 13, 14, 15])"
      ],
      "execution_count": 9,
      "outputs": [
        {
          "output_type": "execute_result",
          "data": {
            "text/plain": [
              "[121, 144, 169, 196, 225]"
            ]
          },
          "metadata": {
            "tags": []
          },
          "execution_count": 9
        }
      ]
    },
    {
      "cell_type": "code",
      "metadata": {
        "id": "YIOQzTTsmkeh"
      },
      "source": [
        "#Functional programming traditional approach\n",
        "def squared(x):\n",
        "  return x*x"
      ],
      "execution_count": 10,
      "outputs": []
    },
    {
      "cell_type": "code",
      "metadata": {
        "id": "MLMV8Smio9XN"
      },
      "source": [
        "def double(x):\n",
        "  return x*2"
      ],
      "execution_count": 11,
      "outputs": []
    },
    {
      "cell_type": "code",
      "metadata": {
        "id": "myUq8I3UpBp4"
      },
      "source": [
        "def squareAll(data):\n",
        "  result=[]\n",
        "  for i in data:\n",
        "    result.append(squared(i))\n",
        "  return(result)"
      ],
      "execution_count": 12,
      "outputs": []
    },
    {
      "cell_type": "code",
      "metadata": {
        "id": "1wMjxWF1pFUI"
      },
      "source": [
        "def doubleAll(data):\n",
        "  result=[]\n",
        "  for i in data:\n",
        "    result.append(double(i))\n",
        "  return result"
      ],
      "execution_count": 13,
      "outputs": []
    },
    {
      "cell_type": "code",
      "metadata": {
        "colab": {
          "base_uri": "https://localhost:8080/"
        },
        "id": "Bq0nx0F7pV2f",
        "outputId": "e7258b12-dc40-4649-9691-c7920f49cfde"
      },
      "source": [
        "def apply_f_All(f, data):\n",
        "  result=[]\n",
        "  for x in data:\n",
        "    result.append(f(x))\n",
        "  return result\n",
        "apply_f_All(squared, [1,2,3,5,6])"
      ],
      "execution_count": 14,
      "outputs": [
        {
          "output_type": "execute_result",
          "data": {
            "text/plain": [
              "[1, 4, 9, 25, 36]"
            ]
          },
          "metadata": {
            "tags": []
          },
          "execution_count": 14
        }
      ]
    },
    {
      "cell_type": "markdown",
      "metadata": {
        "id": "EzRLjKOFqXgX"
      },
      "source": [
        "#Functional programming using lambda expression"
      ]
    },
    {
      "cell_type": "code",
      "metadata": {
        "colab": {
          "base_uri": "https://localhost:8080/"
        },
        "id": "usAJhvbWpqAy",
        "outputId": "afc0772c-27b4-41c2-c966-ce7f2288426d"
      },
      "source": [
        "def myfunc(n):\n",
        "  return lambda a : a * n\n",
        "\n",
        "mydoubler = myfunc(2)\n",
        "mytripler = myfunc(3)\n",
        "\n",
        "print(mydoubler(11))\n",
        "print(mytripler(11))"
      ],
      "execution_count": 15,
      "outputs": [
        {
          "output_type": "stream",
          "text": [
            "22\n",
            "33\n"
          ],
          "name": "stdout"
        }
      ]
    },
    {
      "cell_type": "code",
      "metadata": {
        "colab": {
          "base_uri": "https://localhost:8080/"
        },
        "id": "1IR2HQ6_q8rA",
        "outputId": "85801c63-a347-4900-e733-a66072ad2ab0"
      },
      "source": [
        "# Lambda function to calculate square of a number\n",
        "square = lambda x: x ** 2\n",
        "print(square(3)) # Output: 9\n",
        "\n",
        "# Traditional function to calculate square of a number\n",
        "def square1(num):\n",
        "  return num ** 2\n",
        "print(square(5)) # Output: 25"
      ],
      "execution_count": 16,
      "outputs": [
        {
          "output_type": "stream",
          "text": [
            "9\n",
            "25\n"
          ],
          "name": "stdout"
        }
      ]
    },
    {
      "cell_type": "code",
      "metadata": {
        "id": "nkewhYikrjHK",
        "colab": {
          "base_uri": "https://localhost:8080/"
        },
        "outputId": "6c6336d9-5b4d-4895-c350-270e3c37be3e"
      },
      "source": [
        "lambda_func = lambda x: True if x**2 >= 10 else False\n",
        "print(lambda_func(3)) # Returns False\n",
        "print(lambda_func(4)) # Returns True"
      ],
      "execution_count": 17,
      "outputs": [
        {
          "output_type": "stream",
          "text": [
            "False\n",
            "True\n"
          ],
          "name": "stdout"
        }
      ]
    },
    {
      "cell_type": "code",
      "metadata": {
        "id": "_YBwRqHjuvJ8",
        "colab": {
          "base_uri": "https://localhost:8080/"
        },
        "outputId": "d4892f77-366d-47a8-d7e3-b36e4e41ad7f"
      },
      "source": [
        "my_dict = {\"A\": 1, \"B\": 2, \"C\": 3}\n",
        "sorted(my_dict, key=lambda x: my_dict[x]%3) # Returns ['C', 'A', 'B']"
      ],
      "execution_count": 18,
      "outputs": [
        {
          "output_type": "execute_result",
          "data": {
            "text/plain": [
              "['C', 'A', 'B']"
            ]
          },
          "metadata": {
            "tags": []
          },
          "execution_count": 18
        }
      ]
    }
  ]
}