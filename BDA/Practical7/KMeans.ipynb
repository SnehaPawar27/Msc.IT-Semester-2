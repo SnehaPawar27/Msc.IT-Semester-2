{
  "nbformat": 4,
  "nbformat_minor": 0,
  "metadata": {
    "colab": {
      "name": "KMeans.ipynb",
      "provenance": [],
      "collapsed_sections": []
    },
    "kernelspec": {
      "name": "python3",
      "display_name": "Python 3"
    },
    "language_info": {
      "name": "python"
    }
  },
  "cells": [
    {
      "cell_type": "markdown",
      "metadata": {
        "id": "0kO9JOEgtUI-"
      },
      "source": [
        "**Implementing Gaussian Mixture Models in Python**\n",
        "\n",
        "\n",
        "\n"
      ]
    },
    {
      "cell_type": "markdown",
      "metadata": {
        "id": "9cG7Gfpduw53"
      },
      "source": [
        "**Plot the graph**"
      ]
    },
    {
      "cell_type": "code",
      "metadata": {
        "colab": {
          "base_uri": "https://localhost:8080/",
          "height": 203
        },
        "id": "9ygGCJ5jtV8b",
        "outputId": "12ca6873-7b82-41c6-ef01-941d98e1a292"
      },
      "source": [
        "import pandas as pd\n",
        "import matplotlib.pyplot as plt\n",
        "\n",
        "data = pd.read_csv('/content/sample_data/Clustering_gmm.csv')\n",
        "data.head()"
      ],
      "execution_count": null,
      "outputs": [
        {
          "output_type": "execute_result",
          "data": {
            "text/html": [
              "<div>\n",
              "<style scoped>\n",
              "    .dataframe tbody tr th:only-of-type {\n",
              "        vertical-align: middle;\n",
              "    }\n",
              "\n",
              "    .dataframe tbody tr th {\n",
              "        vertical-align: top;\n",
              "    }\n",
              "\n",
              "    .dataframe thead th {\n",
              "        text-align: right;\n",
              "    }\n",
              "</style>\n",
              "<table border=\"1\" class=\"dataframe\">\n",
              "  <thead>\n",
              "    <tr style=\"text-align: right;\">\n",
              "      <th></th>\n",
              "      <th>Weight</th>\n",
              "      <th>Height</th>\n",
              "    </tr>\n",
              "  </thead>\n",
              "  <tbody>\n",
              "    <tr>\n",
              "      <th>0</th>\n",
              "      <td>67.062924</td>\n",
              "      <td>176.086355</td>\n",
              "    </tr>\n",
              "    <tr>\n",
              "      <th>1</th>\n",
              "      <td>68.804094</td>\n",
              "      <td>178.388669</td>\n",
              "    </tr>\n",
              "    <tr>\n",
              "      <th>2</th>\n",
              "      <td>60.930863</td>\n",
              "      <td>170.284496</td>\n",
              "    </tr>\n",
              "    <tr>\n",
              "      <th>3</th>\n",
              "      <td>59.733843</td>\n",
              "      <td>168.691992</td>\n",
              "    </tr>\n",
              "    <tr>\n",
              "      <th>4</th>\n",
              "      <td>65.431230</td>\n",
              "      <td>173.763679</td>\n",
              "    </tr>\n",
              "  </tbody>\n",
              "</table>\n",
              "</div>"
            ],
            "text/plain": [
              "      Weight      Height\n",
              "0  67.062924  176.086355\n",
              "1  68.804094  178.388669\n",
              "2  60.930863  170.284496\n",
              "3  59.733843  168.691992\n",
              "4  65.431230  173.763679"
            ]
          },
          "metadata": {
            "tags": []
          },
          "execution_count": 2
        }
      ]
    },
    {
      "cell_type": "code",
      "metadata": {
        "colab": {
          "base_uri": "https://localhost:8080/",
          "height": 458
        },
        "id": "fzmy7WPS0fKf",
        "outputId": "2c54f40a-a38f-4101-8a47-6cd4d5dcbfa2"
      },
      "source": [
        "plt.figure(figsize=(7,7))\n",
        "plt.scatter(data[\"Weight\"],data[\"Height\"])\n",
        "plt.xlabel('Weight')\n",
        "plt.ylabel('Height')\n",
        "plt.title('Data Distribution')\n",
        "plt.show()"
      ],
      "execution_count": null,
      "outputs": [
        {
          "output_type": "display_data",
          "data": {
            "image/png": "[encoded data removed]",
            "text/plain": [
              "<Figure size 504x504 with 1 Axes>"
            ]
          },
          "metadata": {
            "tags": [],
            "needs_background": "light"
          }
        }
      ]
    },
    {
      "cell_type": "markdown",
      "metadata": {
        "id": "nFn2X47IuEEf"
      },
      "source": [
        "**Build a k-means model**"
      ]
    },
    {
      "cell_type": "code",
      "metadata": {
        "id": "-joL3ocluQum"
      },
      "source": [
        "#training k-means model\n",
        "from sklearn.cluster import KMeans\n",
        "kmeans = KMeans(n_clusters=4)\n",
        "fit = kmeans.fit(data)"
      ],
      "execution_count": null,
      "outputs": []
    },
    {
      "cell_type": "code",
      "metadata": {
        "colab": {
          "base_uri": "https://localhost:8080/"
        },
        "id": "Nlsw9ATt4RA2",
        "outputId": "a41904b8-a998-49d1-e5a2-e41caa67ad4c"
      },
      "source": [
        "#predictions from kmeans\n",
        "pred = kmeans.predict(data)\n",
        "frame = pd.DataFrame(data)\n",
        "frame['cluster'] = pred\n",
        "frame.columns = ['Weight', 'Height', 'cluster']\n",
        "print(frame)\n"
      ],
      "execution_count": null,
      "outputs": [
        {
          "output_type": "stream",
          "text": [
            "        Weight      Height  cluster\n",
            "0    67.062924  176.086355        1\n",
            "1    68.804094  178.388669        1\n",
            "2    60.930863  170.284496        0\n",
            "3    59.733843  168.691992        0\n",
            "4    65.431230  173.763679        1\n",
            "..         ...         ...      ...\n",
            "495  59.976983  169.679741        0\n",
            "496  66.423814  174.625574        1\n",
            "497  53.604698  161.919208        2\n",
            "498  50.433644  160.794875        2\n",
            "499  60.224392  169.689709        0\n",
            "\n",
            "[500 rows x 3 columns]\n"
          ],
          "name": "stdout"
        }
      ]
    },
    {
      "cell_type": "code",
      "metadata": {
        "colab": {
          "base_uri": "https://localhost:8080/",
          "height": 1000
        },
        "id": "Zr8JcLR16lII",
        "outputId": "0d2016e9-32c8-4773-bf08-0881bb37fc60"
      },
      "source": [
        "#plotting results\n",
        "color=['blue','green','cyan', 'black']\n",
        "for k in range(0,4):\n",
        "    data = frame[frame[\"cluster\"]==k]\n",
        "    print(data)\n",
        "    plt.scatter(data[\"Weight\"],data[\"Height\"],c=color[k])\n",
        "plt.show()"
      ],
      "execution_count": null,
      "outputs": [
        {
          "output_type": "stream",
          "text": [
            "        Weight      Height  cluster\n",
            "2    60.930863  170.284496        0\n",
            "3    59.733843  168.691992        0\n",
            "5    61.577160  168.091751        0\n",
            "7    61.041643  170.096682        0\n",
            "14   60.659373  170.647659        0\n",
            "..         ...         ...      ...\n",
            "486  61.392859  167.867140        0\n",
            "493  61.848894  168.260194        0\n",
            "494  62.200362  167.889268        0\n",
            "495  59.976983  169.679741        0\n",
            "499  60.224392  169.689709        0\n",
            "\n",
            "[129 rows x 3 columns]\n",
            "        Weight      Height  cluster\n",
            "0    67.062924  176.086355        1\n",
            "1    68.804094  178.388669        1\n",
            "4    65.431230  173.763679        1\n",
            "11   68.554857  176.473747        1\n",
            "16   67.163841  176.337069        1\n",
            "..         ...         ...      ...\n",
            "467  67.392113  176.457490        1\n",
            "469  67.561705  176.047309        1\n",
            "471  67.020706  174.290696        1\n",
            "488  66.373248  176.309816        1\n",
            "496  66.423814  174.625574        1\n",
            "\n",
            "[125 rows x 3 columns]\n",
            "        Weight      Height  cluster\n",
            "9    53.407860  162.756843        2\n",
            "13   53.446017  162.915167        2\n",
            "18   53.964764  162.490554        2\n",
            "23   53.551393  162.256949        2\n",
            "25   54.830925  163.769737        2\n",
            "..         ...         ...      ...\n",
            "483  53.578495  162.430613        2\n",
            "487  54.069163  162.998875        2\n",
            "491  55.223039  163.405498        2\n",
            "497  53.604698  161.919208        2\n",
            "498  50.433644  160.794875        2\n",
            "\n",
            "[125 rows x 3 columns]\n",
            "        Weight      Height  cluster\n",
            "6    63.341866  170.642516        3\n",
            "8    62.633623  171.862972        3\n",
            "10   62.938200  168.710079        3\n",
            "12   65.163043  171.176582        3\n",
            "22   64.591600  170.062838        3\n",
            "..         ...         ...      ...\n",
            "484  63.279330  168.936205        3\n",
            "485  62.207757  169.061604        3\n",
            "489  63.170974  170.036571        3\n",
            "490  62.284684  168.673993        3\n",
            "492  62.311154  170.593457        3\n",
            "\n",
            "[121 rows x 3 columns]\n"
          ],
          "name": "stdout"
        },
        {
          "output_type": "display_data",
          "data": {
            "image/png": "[encoded data removed]",
            "text/plain": [
              "<Figure size 432x288 with 1 Axes>"
            ]
          },
          "metadata": {
            "tags": [],
            "needs_background": "light"
          }
        }
      ]
    },
    {
      "cell_type": "markdown",
      "metadata": {
        "id": "U9NktuJTuVzG"
      },
      "source": [
        "**Note:** k-means model failed to identify the right clusters"
      ]
    }
  ]
}